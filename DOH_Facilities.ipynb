{
 "cells": [
  {
   "cell_type": "code",
   "execution_count": 1,
   "metadata": {},
   "outputs": [],
   "source": [
    "import numpy as np\n",
    "import pandas as pd\n",
    "import os\n",
    "import glob\n",
    "import re\n",
    "import math\n"
   ]
  },
  {
   "cell_type": "code",
   "execution_count": 2,
   "metadata": {},
   "outputs": [],
   "source": [
    "os.chdir('/Users/lorenzoflores/Desktop/Nerve/Hospitals/')"
   ]
  },
  {
   "cell_type": "code",
   "execution_count": 3,
   "metadata": {},
   "outputs": [],
   "source": [
    "path = '/Users/lorenzoflores/Desktop/Nerve/Hospitals/'\n",
    "extension = 'csv'\n",
    "os.chdir(path+'DOH_List')\n",
    "titles = glob.glob('*.{}'.format(extension))\n"
   ]
  },
  {
   "cell_type": "markdown",
   "metadata": {},
   "source": [
    "## Goals\n",
    "* Overall Plot: Provinces as outlines, regions as colors, points as hospitals\n",
    "* Hospital Deserts: Municipalities as outlines, population density as colors, points as hospitals\n",
    "* Municipalities by Distance: Munipalities as outlines, distance to nearest hospital as colors, points as hospitals"
   ]
  },
  {
   "cell_type": "markdown",
   "metadata": {},
   "source": [
    "## Datasets\n",
    "\n",
    "### `data` \n",
    "From DOH: https://nhfr.doh.gov.ph/rfacilities2list.php\n",
    "   * `Health Facility Code Short`: ID\n",
    "   * `Facility Name`: Name\n",
    "   * `Old Health Facility Names`: Old Name\n",
    "   * `Old Health Facility Name 2`: Old Name 2\n",
    "   * `Health Facility Type`: 'Ambulatory Surgical Clinic', 'Animal Bite Treatment Center', 'Barangay Health Station', 'Birthing Home', 'City Health Office', 'DepEd Clinic', 'Dialysis Clinic', 'Drug Abuse Treatment and Rehabilitation Centers', 'Drug Testing Laboratory', 'General Clinic Laboratory', 'Hospital', 'Infirmary', 'Municipal Health Office', 'Provincial Health Office', 'Psychiatric Care Facility', 'Rural Health Unit', 'Social hygiene Clinic'\n",
    "   * `Ownership Major Classification`: 'Private', 'Government'\n",
    "   * `Ownership Sub-Classification for Government facilities`: nan, 'University Hospital', 'Department of Justice', 'Office of the President', ' ', 'Local Government Unit', 'Philippine National Police', 'Department Of Health', 'National Government', 'Department of National Defense'\n",
    "   * `Ownership Sub-Classification for private facilities`: nan, 'Foundation', 'Corporation', 'Religious', 'Cooperative', ' ', 'Single Proprietorship', 'Non-government Organization'\n",
    "   * `Street Name and #          `: Address\n",
    "   * `Building name and #`: Building Address\n",
    "   * `Region Name`: Region\n",
    "   * `Region PSGC`: Region Code (10,000,000 to 170,000,000)\n",
    "   * `Province Name`: Province\n",
    "   * `Province PSGC`: Province Code\n",
    "   * `City/Municipality Name`: City\n",
    "   * `City/Municipality PSGC`: City Code\n",
    "   * `Barangay Name`: Brgy\n",
    "   * `Barangay PSGC`: Brgy Code\n",
    "   * `Zip Code`: Zip Code\n",
    "   * `Official Website`: Website\n",
    "   * `Hospital Licensing Status`: nan, 'Not Applicable', 'With License', 'Without License'\n",
    "   * `Service Capability`: nan, 'Level 3', 'Level 1', 'Level 2', 'Custodial Psychiatric Care'\n",
    "   * `Bed Capacity`: Integer\n",
    "    \n",
    "### `psgc` \n",
    "From Thinking Machines: https://github.com/thinkingmachines/psgc\n",
    "   * `interlevel`: Bgy, City, Mun, SubMun, etc.\n",
    "   * `code`: Philippine Standard Geographic Code (PSGC) number\n",
    "   * `location`: Name of Place\n",
    "    \n",
    "### `mun` \n",
    "From Wikipedia: https://en.wikipedia.org/wiki/List_of_cities_and_municipalities_in_the_Philippines#cite_note-PSA15%E2%80%93d-1\n",
    "   * `City or municipality`: Name\n",
    "   * `Population`: Number of People (2015)\n",
    "   * `Area`: Land Area (km^2)\n",
    "   * `PD`: Population Density (pop_2015/km^2)\n",
    "   * `Barangay`: Number of Barangays\n",
    "   * `Class`: Municipality, Highly Urbanized City, Component City, Independent Component City"
   ]
  },
  {
   "cell_type": "markdown",
   "metadata": {},
   "source": [
    "## Hospitals"
   ]
  },
  {
   "cell_type": "code",
   "execution_count": 3,
   "metadata": {},
   "outputs": [],
   "source": [
    "data = pd.read_csv(titles[0])\n",
    "for item in titles[1:]:\n",
    "    data = data.append(pd.read_csv(item), sort=False)"
   ]
  },
  {
   "cell_type": "code",
   "execution_count": 4,
   "metadata": {},
   "outputs": [],
   "source": [
    "data = data[['Health Facility Code Short',\n",
    "'Facility Name',\n",
    "'Old Health Facility Names', \n",
    "'Old Health Facility Name 2',\n",
    "'Health Facility Type',\n",
    "'Ownership Major Classification',\n",
    "'Ownership Sub-Classification for Government facilities',\n",
    "'Ownership Sub-Classification for private facilities',\n",
    "'Street Name and #           ',\n",
    "'Building name and #',\n",
    "'Region Name',\n",
    "'Region PSGC',\n",
    "'Province Name',\n",
    "'Province PSGC',\n",
    "'City/Municipality Name',\n",
    "'City/Municipality PSGC',\n",
    "'Barangay Name',\n",
    "'Barangay PSGC',\n",
    "'Zip Code',\n",
    "'Official Website',\n",
    "'Hospital Licensing Status',\n",
    "'Service Capability',\n",
    "'Bed Capacity']]"
   ]
  },
  {
   "cell_type": "code",
   "execution_count": 5,
   "metadata": {},
   "outputs": [],
   "source": [
    "data = data.reset_index()"
   ]
  },
  {
   "cell_type": "markdown",
   "metadata": {},
   "source": [
    "#### Filtering for Hospitals and Other Facilities\n",
    "\n",
    "* Among the entries in `data`, only 1302 had service capability ratings (Level 1, 2, 3, or Psychiatric Care)\n",
    "* 1299/1302 were hospitals, among these 343 had level 2 ratings while 118 had level 3 ratings\n",
    "* Since only level 2 or 3 facilities can accept Covid-19 patients, it makes sense to focus on hospitals\n",
    "* Other facilities (i.e. 'Hospital','Infirmary','General Clinic Laboratory', 'City Health Office', 'Municipal Health Office', 'Provincial Health Office') were included for comparison, to see how much more the reach could be if these facilities had the right equipment. However, rural health facilities and barangay health units (which composed most of the entries) were excluded for time and scope purposes"
   ]
  },
  {
   "cell_type": "code",
   "execution_count": 6,
   "metadata": {},
   "outputs": [],
   "source": [
    "data['Service Capability'] = data['Service Capability'].fillna(0)"
   ]
  },
  {
   "cell_type": "code",
   "execution_count": 7,
   "metadata": {},
   "outputs": [
    {
     "data": {
      "text/html": [
       "<div>\n",
       "<style scoped>\n",
       "    .dataframe tbody tr th:only-of-type {\n",
       "        vertical-align: middle;\n",
       "    }\n",
       "\n",
       "    .dataframe tbody tr th {\n",
       "        vertical-align: top;\n",
       "    }\n",
       "\n",
       "    .dataframe thead th {\n",
       "        text-align: right;\n",
       "    }\n",
       "</style>\n",
       "<table border=\"1\" class=\"dataframe\">\n",
       "  <thead>\n",
       "    <tr style=\"text-align: right;\">\n",
       "      <th></th>\n",
       "      <th>Health Facility Code Short</th>\n",
       "    </tr>\n",
       "    <tr>\n",
       "      <th>Service Capability</th>\n",
       "      <th></th>\n",
       "    </tr>\n",
       "  </thead>\n",
       "  <tbody>\n",
       "    <tr>\n",
       "      <td>0</td>\n",
       "      <td>28677</td>\n",
       "    </tr>\n",
       "    <tr>\n",
       "      <td>Custodial Psychiatric Care</td>\n",
       "      <td>3</td>\n",
       "    </tr>\n",
       "    <tr>\n",
       "      <td>Level 1</td>\n",
       "      <td>838</td>\n",
       "    </tr>\n",
       "    <tr>\n",
       "      <td>Level 2</td>\n",
       "      <td>343</td>\n",
       "    </tr>\n",
       "    <tr>\n",
       "      <td>Level 3</td>\n",
       "      <td>118</td>\n",
       "    </tr>\n",
       "  </tbody>\n",
       "</table>\n",
       "</div>"
      ],
      "text/plain": [
       "                            Health Facility Code Short\n",
       "Service Capability                                    \n",
       "0                                                28677\n",
       "Custodial Psychiatric Care                           3\n",
       "Level 1                                            838\n",
       "Level 2                                            343\n",
       "Level 3                                            118"
      ]
     },
     "execution_count": 7,
     "metadata": {},
     "output_type": "execute_result"
    }
   ],
   "source": [
    "data.loc[:,['Service Capability','Health Facility Code Short']].groupby('Service Capability').count()"
   ]
  },
  {
   "cell_type": "code",
   "execution_count": 8,
   "metadata": {},
   "outputs": [
    {
     "data": {
      "text/html": [
       "<div>\n",
       "<style scoped>\n",
       "    .dataframe tbody tr th:only-of-type {\n",
       "        vertical-align: middle;\n",
       "    }\n",
       "\n",
       "    .dataframe tbody tr th {\n",
       "        vertical-align: top;\n",
       "    }\n",
       "\n",
       "    .dataframe thead th {\n",
       "        text-align: right;\n",
       "    }\n",
       "</style>\n",
       "<table border=\"1\" class=\"dataframe\">\n",
       "  <thead>\n",
       "    <tr style=\"text-align: right;\">\n",
       "      <th></th>\n",
       "      <th>Health Facility Code Short</th>\n",
       "    </tr>\n",
       "    <tr>\n",
       "      <th>Health Facility Type</th>\n",
       "      <th></th>\n",
       "    </tr>\n",
       "  </thead>\n",
       "  <tbody>\n",
       "    <tr>\n",
       "      <td>Ambulatory Surgical Clinic</td>\n",
       "      <td>2</td>\n",
       "    </tr>\n",
       "    <tr>\n",
       "      <td>Animal Bite Treatment Center</td>\n",
       "      <td>4</td>\n",
       "    </tr>\n",
       "    <tr>\n",
       "      <td>Barangay Health Station</td>\n",
       "      <td>23071</td>\n",
       "    </tr>\n",
       "    <tr>\n",
       "      <td>Birthing Home</td>\n",
       "      <td>1903</td>\n",
       "    </tr>\n",
       "    <tr>\n",
       "      <td>City Health Office</td>\n",
       "      <td>11</td>\n",
       "    </tr>\n",
       "    <tr>\n",
       "      <td>DepEd Clinic</td>\n",
       "      <td>6</td>\n",
       "    </tr>\n",
       "    <tr>\n",
       "      <td>Dialysis Clinic</td>\n",
       "      <td>4</td>\n",
       "    </tr>\n",
       "    <tr>\n",
       "      <td>Drug Abuse Treatment and Rehabilitation Centers</td>\n",
       "      <td>59</td>\n",
       "    </tr>\n",
       "    <tr>\n",
       "      <td>Drug Testing Laboratory</td>\n",
       "      <td>24</td>\n",
       "    </tr>\n",
       "    <tr>\n",
       "      <td>General Clinic Laboratory</td>\n",
       "      <td>80</td>\n",
       "    </tr>\n",
       "    <tr>\n",
       "      <td>Hospital</td>\n",
       "      <td>1487</td>\n",
       "    </tr>\n",
       "    <tr>\n",
       "      <td>Infirmary</td>\n",
       "      <td>688</td>\n",
       "    </tr>\n",
       "    <tr>\n",
       "      <td>Municipal Health Office</td>\n",
       "      <td>10</td>\n",
       "    </tr>\n",
       "    <tr>\n",
       "      <td>Provincial Health Office</td>\n",
       "      <td>1</td>\n",
       "    </tr>\n",
       "    <tr>\n",
       "      <td>Psychiatric Care Facility</td>\n",
       "      <td>4</td>\n",
       "    </tr>\n",
       "    <tr>\n",
       "      <td>Rural Health Unit</td>\n",
       "      <td>2590</td>\n",
       "    </tr>\n",
       "    <tr>\n",
       "      <td>Social hygiene Clinic</td>\n",
       "      <td>35</td>\n",
       "    </tr>\n",
       "  </tbody>\n",
       "</table>\n",
       "</div>"
      ],
      "text/plain": [
       "                                                 Health Facility Code Short\n",
       "Health Facility Type                                                       \n",
       "Ambulatory Surgical Clinic                                                2\n",
       "Animal Bite Treatment Center                                              4\n",
       "Barangay Health Station                                               23071\n",
       "Birthing Home                                                          1903\n",
       "City Health Office                                                       11\n",
       "DepEd Clinic                                                              6\n",
       "Dialysis Clinic                                                           4\n",
       "Drug Abuse Treatment and Rehabilitation Centers                          59\n",
       "Drug Testing Laboratory                                                  24\n",
       "General Clinic Laboratory                                                80\n",
       "Hospital                                                               1487\n",
       "Infirmary                                                               688\n",
       "Municipal Health Office                                                  10\n",
       "Provincial Health Office                                                  1\n",
       "Psychiatric Care Facility                                                 4\n",
       "Rural Health Unit                                                      2590\n",
       "Social hygiene Clinic                                                    35"
      ]
     },
     "execution_count": 8,
     "metadata": {},
     "output_type": "execute_result"
    }
   ],
   "source": [
    "data.loc[:,['Health Facility Type','Health Facility Code Short']].groupby('Health Facility Type').count()"
   ]
  },
  {
   "cell_type": "code",
   "execution_count": 9,
   "metadata": {},
   "outputs": [],
   "source": [
    "data['target'] = [1 if item in ['Hospital','Infirmary','General Clinic Laboratory', \n",
    "               'City Health Office', 'Municipal Health Office', \n",
    "               'Provincial Health Office'] else 0 for item in data['Health Facility Type']]\n",
    "subData = data[data['target']==1]\n",
    "subData = subData.reset_index()"
   ]
  },
  {
   "cell_type": "markdown",
   "metadata": {},
   "source": [
    "#### Creating Geotags for Facilities"
   ]
  },
  {
   "cell_type": "code",
   "execution_count": 19,
   "metadata": {},
   "outputs": [],
   "source": [
    "# adds = []\n",
    "# for i in range(subData.shape[0]):\n",
    "#     add = subData['Facility Name'][i]\n",
    "    \n",
    "#     try:\n",
    "#         city = subData['City/Municipality Name'][i]\n",
    "#         city = city.replace('Capital','')\n",
    "#         res = add+', '+city+', '+'Philippines'\n",
    "#         adds.append(res)\n",
    "#         continue\n",
    "#     except:\n",
    "#         pass\n",
    "    \n",
    "#     try: \n",
    "#         brgy = subData['Barangay Name'][i]\n",
    "#         res = add+', '+brgy+', '+'Philippines'\n",
    "#         adds.append(res)\n",
    "#         continue\n",
    "#     except:\n",
    "#         res = add+', '+'Philippines'\n",
    "#         adds.append(res)\n",
    "#         continue"
   ]
  },
  {
   "cell_type": "code",
   "execution_count": 230,
   "metadata": {},
   "outputs": [],
   "source": [
    "import json\n",
    "import requests\n",
    "\n",
    "def geoTag(string):\n",
    "    try:\n",
    "        response = requests.get('https://maps.googleapis.com/maps/api/geocode/json?address='+\n",
    "                                string+'&key='+\"\")\n",
    "        resp_json_payload = response.json()\n",
    "        lat = resp_json_payload['results'][0]['geometry']['location']['lat']\n",
    "        lon = resp_json_payload['results'][0]['geometry']['location']['lng']\n",
    "        return [lat,lon]\n",
    "    except:\n",
    "        return 0\n"
   ]
  },
  {
   "cell_type": "code",
   "execution_count": 11,
   "metadata": {},
   "outputs": [],
   "source": [
    "# subData['lat'] = np.repeat(None, subData.shape[0])\n",
    "# subData['lon'] = np.repeat(None, subData.shape[0])"
   ]
  },
  {
   "cell_type": "code",
   "execution_count": 25,
   "metadata": {},
   "outputs": [],
   "source": [
    "# brgyCoords = {}\n",
    "# cityCoords = {}\n",
    "# hospCoords = {}"
   ]
  },
  {
   "cell_type": "code",
   "execution_count": 26,
   "metadata": {
    "collapsed": true
   },
   "outputs": [
    {
     "name": "stdout",
     "output_type": "stream",
     "text": [
      "Now on: 0.0%\n",
      "Now on: 4.391743522178305%\n",
      "Now on: 8.78348704435661%\n",
      "Now on: 13.175230566534916%\n",
      "Now on: 17.56697408871322%\n",
      "Now on: 21.958717610891522%\n",
      "Now on: 26.35046113306983%\n",
      "Now on: 30.742204655248134%\n",
      "Now on: 35.13394817742644%\n",
      "Now on: 39.52569169960474%\n",
      "Now on: 43.917435221783045%\n",
      "Now on: 48.309178743961354%\n",
      "Now on: 52.70092226613966%\n",
      "Now on: 57.092665788317966%\n",
      "Now on: 61.48440931049627%\n",
      "Now on: 65.87615283267458%\n",
      "Now on: 70.26789635485288%\n",
      "Now on: 74.65963987703118%\n",
      "Now on: 79.05138339920948%\n",
      "Now on: 83.44312692138779%\n",
      "Now on: 87.83487044356609%\n",
      "Now on: 92.22661396574439%\n",
      "Now on: 96.61835748792271%\n"
     ]
    }
   ],
   "source": [
    "# errNo = []\n",
    "# for i in range(subData.shape[0]):\n",
    "#     if i%100 == 0:\n",
    "#         print(\"Now on: \"+str((i/subData.shape[0])*100)+\"%\")\n",
    "    \n",
    "#     if adds[i] in hospCoords:\n",
    "#         subData.loc[i,'lat'] = hospCoords[adds[i]][0]\n",
    "#         subData.loc[i,'lon'] = hospCoords[adds[i]][1]\n",
    "#         continue\n",
    "#     else:\n",
    "#         temp = geoTag(adds[i])\n",
    "#         if temp != 0:\n",
    "#             subData.loc[i,'lat'] = temp[0]\n",
    "#             subData.loc[i,'lon'] = temp[1]\n",
    "#             hospCoords[adds[i]] = temp\n",
    "#             continue\n",
    "        \n",
    "#     # The full name was unable to be tagged, try city\n",
    "#     if str(subData['Barangay Name'][i]) != 'nan':\n",
    "#         if subData['Barangay Name'][i] in brgyCoords.keys():\n",
    "#             subData.loc[i,'lat'] = brgyCoords[subData['Barangay Name'][i]][0]\n",
    "#             subData.loc[i,'lon'] = brgyCoords[subData['Barangay Name'][i]][1]\n",
    "#         else:\n",
    "#             brgy = 'Barangay '+subData['Barangay Name'][i]+', '+subData['Province Name'][i]+', '+'Philippines'\n",
    "#             temp = geoTag(brgy)\n",
    "#             if temp != 0:\n",
    "#                 subData.loc[i,'lat'] = temp[0]\n",
    "#                 subData.loc[i,'lon'] = temp[1]\n",
    "#                 brgyCoords[subData['Barangay Name'][i]] = temp\n",
    "#                 continue\n",
    "    \n",
    "#     if subData['City/Municipality Name'][i] in cityCoords.keys():\n",
    "#         subData.loc[i,'lat'] = cityCoords[subData['City/Municipality Name'][i]][0]\n",
    "#         subData.loc[i,'lon'] = cityCoords[subData['City/Municipality Name'][i]][1]\n",
    "#     else:\n",
    "#         city = subData['City/Municipality Name'][i] +', '+'Philippines'\n",
    "#         temp = geoTag(city)\n",
    "#         if temp != 0:\n",
    "#             subData.loc[i,'lat'] = temp[0]\n",
    "#             subData.loc[i,'lon'] = temp[1]\n",
    "#             cityCoords[subData['City/Municipality Name'][i]] = temp\n",
    "#         else:\n",
    "#             print('Error on '+str(i)+': '+subData['Facility Name'][i])\n",
    "#             errNo.append(i)\n",
    "\n",
    "# brgyCoords = pd.DataFrame(brgyCoords)\n",
    "# cityCoords = pd.DataFrame(cityCoords)\n",
    "# hospCoords = pd.DataFrame(hospCoords)\n"
   ]
  },
  {
   "cell_type": "code",
   "execution_count": 27,
   "metadata": {},
   "outputs": [],
   "source": [
    "# brgyCoords.to_csv('brgyCoords.csv')\n",
    "# cityCoords.to_csv('cityCoords.csv')\n",
    "# hospCoords.to_csv('hospCoords.csv')"
   ]
  },
  {
   "cell_type": "code",
   "execution_count": null,
   "metadata": {},
   "outputs": [],
   "source": [
    "# subData.to_csv('subData.csv')\n",
    "# hospitals = subData[subData['Health Facility Type']=='Hospital']\n",
    "# hospitals.to_csv(\"Hospitals.csv\")"
   ]
  },
  {
   "cell_type": "markdown",
   "metadata": {},
   "source": [
    "## Municipalities\n",
    "* Merge municipality name, PSGC code, and population density\n",
    "* Merge to shapefile for plotting of colors\n",
    "\n",
    "Standardizing\n",
    "* All names of municipalities are capitalized\n",
    "* All names of provinces are in title case\n",
    "* Class uses only either `City` or `Municipality`\n",
    "* Use `location` for city/municipality name, `Province` for province name, and `interlevel` for class"
   ]
  },
  {
   "cell_type": "code",
   "execution_count": 7,
   "metadata": {},
   "outputs": [],
   "source": [
    "mun = pd.read_csv(\"/Users/lorenzoflores/Desktop/Nerve/Hospitals/Municipalities.csv\")\n",
    "psgc = pd.read_csv(\"/Users/lorenzoflores/Desktop/Nerve/Hospitals/clean-psgc.csv\")"
   ]
  },
  {
   "cell_type": "code",
   "execution_count": 8,
   "metadata": {},
   "outputs": [
    {
     "data": {
      "text/html": [
       "<div>\n",
       "<style scoped>\n",
       "    .dataframe tbody tr th:only-of-type {\n",
       "        vertical-align: middle;\n",
       "    }\n",
       "\n",
       "    .dataframe tbody tr th {\n",
       "        vertical-align: top;\n",
       "    }\n",
       "\n",
       "    .dataframe thead th {\n",
       "        text-align: right;\n",
       "    }\n",
       "</style>\n",
       "<table border=\"1\" class=\"dataframe\">\n",
       "  <thead>\n",
       "    <tr style=\"text-align: right;\">\n",
       "      <th></th>\n",
       "      <th>City or municipality</th>\n",
       "      <th>Population</th>\n",
       "      <th>Area</th>\n",
       "      <th>PD</th>\n",
       "      <th>Barangay</th>\n",
       "      <th>Class</th>\n",
       "      <th>Province</th>\n",
       "      <th>Unnamed: 7</th>\n",
       "      <th>Unnamed: 8</th>\n",
       "      <th>Unnamed: 9</th>\n",
       "    </tr>\n",
       "  </thead>\n",
       "  <tbody>\n",
       "    <tr>\n",
       "      <td>1034</td>\n",
       "      <td>Quezon City</td>\n",
       "      <td>2936116.0</td>\n",
       "      <td>165.33</td>\n",
       "      <td>17759.0</td>\n",
       "      <td>142.0</td>\n",
       "      <td>HUC</td>\n",
       "      <td>NCR, 2nd district</td>\n",
       "      <td>NaN</td>\n",
       "      <td>NaN</td>\n",
       "      <td>NaN</td>\n",
       "    </tr>\n",
       "  </tbody>\n",
       "</table>\n",
       "</div>"
      ],
      "text/plain": [
       "     City or municipality  Population    Area       PD  Barangay Class  \\\n",
       "1034          Quezon City   2936116.0  165.33  17759.0     142.0   HUC   \n",
       "\n",
       "               Province  Unnamed: 7  Unnamed: 8  Unnamed: 9  \n",
       "1034  NCR, 2nd district         NaN         NaN         NaN  "
      ]
     },
     "execution_count": 8,
     "metadata": {},
     "output_type": "execute_result"
    }
   ],
   "source": [
    "mun[mun['City or municipality']=='Quezon City']"
   ]
  },
  {
   "cell_type": "markdown",
   "metadata": {},
   "source": [
    "### `psgc` data\n",
    "#### Adding provinces to `psgc` data"
   ]
  },
  {
   "cell_type": "code",
   "execution_count": 9,
   "metadata": {},
   "outputs": [],
   "source": [
    "provLookup = psgc[psgc['interlevel']=='Prov']\n",
    "provLookup = provLookup[['code','location']]"
   ]
  },
  {
   "cell_type": "code",
   "execution_count": 10,
   "metadata": {},
   "outputs": [],
   "source": [
    "provLookup = provLookup.rename(columns={'location':'Province', 'code': 'provCode'})"
   ]
  },
  {
   "cell_type": "code",
   "execution_count": 11,
   "metadata": {},
   "outputs": [],
   "source": [
    "psgc.loc[psgc['interlevel']=='SubMun','code'] = 133900000\n",
    "psgc.loc[psgc['interlevel']=='SubMun','interlevel'] = 'City'\n"
   ]
  },
  {
   "cell_type": "code",
   "execution_count": 12,
   "metadata": {},
   "outputs": [],
   "source": [
    "psgc = psgc[psgc['interlevel'].isin(['City','Mun'])]"
   ]
  },
  {
   "cell_type": "code",
   "execution_count": 13,
   "metadata": {},
   "outputs": [],
   "source": [
    "psgc['provCode'] = [100000*math.floor(item) for item in psgc['code']/100000]"
   ]
  },
  {
   "cell_type": "code",
   "execution_count": 14,
   "metadata": {},
   "outputs": [],
   "source": [
    "provLookup = provLookup.append(pd.DataFrame({'provCode':[133900000,137400000,137500000,137600000],\n",
    "                                             'Province':['MANILA','MANILA','MANILA','MANILA']})).reset_index()"
   ]
  },
  {
   "cell_type": "code",
   "execution_count": 15,
   "metadata": {},
   "outputs": [],
   "source": [
    "provLookup = provLookup.drop(provLookup[provLookup['Province']=='SAMAR (WESTERN SAMAR)'].index.tolist())\n",
    "provLookup = provLookup.drop(provLookup[provLookup['Province']=='WESTERN SAMAR'].index.tolist())\n",
    "provLookup = provLookup.drop(provLookup[provLookup['Province']=='COTABATO (NORTH COTABATO)'].index.tolist())\n",
    "provLookup = provLookup.drop(provLookup[provLookup['Province']=='NORTH COTABATO'].index.tolist())\n"
   ]
  },
  {
   "cell_type": "code",
   "execution_count": 16,
   "metadata": {},
   "outputs": [],
   "source": [
    "psgc = psgc.merge(provLookup, on='provCode', how='left')"
   ]
  },
  {
   "cell_type": "code",
   "execution_count": 17,
   "metadata": {},
   "outputs": [],
   "source": [
    "psgc = psgc.reset_index()"
   ]
  },
  {
   "cell_type": "code",
   "execution_count": 18,
   "metadata": {},
   "outputs": [],
   "source": [
    "psgc = psgc[['code','location','provCode','Province']]\n",
    "psgc = psgc.drop_duplicates()"
   ]
  },
  {
   "cell_type": "code",
   "execution_count": 19,
   "metadata": {},
   "outputs": [],
   "source": [
    "psgc.loc[psgc['code']==99701000,'Province'] = 'Basilan'\n",
    "psgc.loc[psgc['code']==129804000,'Province'] = 'Maguindanao'"
   ]
  },
  {
   "cell_type": "markdown",
   "metadata": {},
   "source": [
    "#### Standardize column names"
   ]
  },
  {
   "cell_type": "code",
   "execution_count": 20,
   "metadata": {},
   "outputs": [],
   "source": [
    "mun = mun.rename(columns={'City or municipality': 'location', 'Province Name': 'Province'})"
   ]
  },
  {
   "cell_type": "code",
   "execution_count": 21,
   "metadata": {},
   "outputs": [],
   "source": [
    "mun['location'] = [str(item).upper() for item in mun['location']]\n",
    "mun['Province'] = [str(item).title() for item in mun['Province']]\n",
    "\n",
    "mun['location'] = [re.sub(' \\((.*?)\\)','',item) for item in mun['location']]\n",
    "mun['location'] = [re.sub(' CITY$','',item) for item in mun['location']]\n"
   ]
  },
  {
   "cell_type": "code",
   "execution_count": 22,
   "metadata": {},
   "outputs": [],
   "source": [
    "psgc['location'] = [str(item).upper() for item in psgc['location']]\n",
    "psgc['Province'] = [str(item).title() for item in psgc['Province']]\n",
    "\n",
    "psgc['location'] = [re.sub(' \\((.*?)\\)','',item) for item in psgc['location']]\n",
    "psgc['location'] = [re.sub(' CITY$','',item) for item in psgc['location']]"
   ]
  },
  {
   "cell_type": "code",
   "execution_count": 23,
   "metadata": {
    "scrolled": true
   },
   "outputs": [],
   "source": [
    "changePSGC = [('ALFONSO CASTANEDA','ALFONSO CASTAÑEDA'),\n",
    "('TONGKIL','BANGUINGUI'),\n",
    "('BULACAN','BULAKAN'),\n",
    "('PAGAGAWAN','DATU MONTAWAL'),\n",
    "('GEN. MARIANO ALVAREZ','GENERAL MARIANO ALVAREZ'),\n",
    "('GEN. S.K. PENDATUN','GENERAL SALIPADA K. PENDATUN'),\n",
    "('IMPASUG-ONG','IMPASUGONG'),\n",
    " ('JALA-JALA','JALAJALA'),\n",
    " ('Leon T. Postigo','LEON B. POSTIGO'),\n",
    " ('MA-AYON','MAAYON'),\n",
    " ('PIGKAWAYAN','PIGCAWAYAN'),\n",
    " ('SAPI-AN','SAPIAN'),\n",
    " ('SEN. NINOY AQUINO','SENATOR NINOY AQUINO'),\n",
    " ('TALITAY','SULTAN SUMAGKA')]"
   ]
  },
  {
   "cell_type": "code",
   "execution_count": 24,
   "metadata": {},
   "outputs": [],
   "source": [
    "psgc.loc[(psgc['location']=='SAN JOSE') & (psgc['Province']=='Antique'),'location'] = 'SAN JOSE DE BUENAVISTA'\n",
    "psgc.loc[psgc['location']=='LEON T. POSTIGO','location'] = 'LEON B. POSTIGO'"
   ]
  },
  {
   "cell_type": "code",
   "execution_count": 25,
   "metadata": {
    "scrolled": false
   },
   "outputs": [],
   "source": [
    "for item in changePSGC:\n",
    "    psgc.loc[psgc['location']==item[0],'location'] = item[1]\n"
   ]
  },
  {
   "cell_type": "code",
   "execution_count": 26,
   "metadata": {},
   "outputs": [],
   "source": [
    "psgc = psgc[['code','location','provCode','Province']]\n",
    "psgc = psgc.drop_duplicates()"
   ]
  },
  {
   "cell_type": "code",
   "execution_count": 27,
   "metadata": {},
   "outputs": [],
   "source": [
    "mun = mun[['location','Population','Area','PD','Province']]\n",
    "mun = mun.drop_duplicates()"
   ]
  },
  {
   "cell_type": "code",
   "execution_count": 28,
   "metadata": {},
   "outputs": [
    {
     "data": {
      "text/plain": [
       "(1635, 5)"
      ]
     },
     "execution_count": 28,
     "metadata": {},
     "output_type": "execute_result"
    }
   ],
   "source": [
    "mun.shape"
   ]
  },
  {
   "cell_type": "code",
   "execution_count": 29,
   "metadata": {},
   "outputs": [
    {
     "data": {
      "text/plain": [
       "(1732, 4)"
      ]
     },
     "execution_count": 29,
     "metadata": {},
     "output_type": "execute_result"
    }
   ],
   "source": [
    "psgc.shape"
   ]
  },
  {
   "cell_type": "markdown",
   "metadata": {},
   "source": [
    "#### Merging `psgc` and `mun`   \n",
    "### `mun` \n",
    "   * `location`: Name\n",
    "   * `Population`: Number of People (2015)\n",
    "   * `Area`: Land Area (km^2)\n",
    "   * `PD`: Population Density (pop_2015/km^2)\n",
    "   * `Barangay`: Number of Barangays\n",
    "   * `interlevel`: Municipality, City\n",
    "   * `Province`: Name of Province\n",
    "   * `index`: ID no\n",
    "   * `code`: PSGC Number"
   ]
  },
  {
   "cell_type": "code",
   "execution_count": 30,
   "metadata": {},
   "outputs": [
    {
     "data": {
      "text/plain": [
       "{'Compostela Valley', 'Manila'}"
      ]
     },
     "execution_count": 30,
     "metadata": {},
     "output_type": "execute_result"
    }
   ],
   "source": [
    "set(psgc['Province']).difference(set(mun['Province']))"
   ]
  },
  {
   "cell_type": "code",
   "execution_count": 31,
   "metadata": {},
   "outputs": [
    {
     "data": {
      "text/plain": [
       "{'Davao De Oro',\n",
       " 'Nan',\n",
       " 'Ncr, 2Nd District',\n",
       " 'Ncr, 3Rd District',\n",
       " 'Ncr, 4Th District',\n",
       " 'Ncr, City Of Manila, 1St District'}"
      ]
     },
     "execution_count": 31,
     "metadata": {},
     "output_type": "execute_result"
    }
   ],
   "source": [
    "set(mun['Province']).difference(set(psgc['Province']))"
   ]
  },
  {
   "cell_type": "code",
   "execution_count": 32,
   "metadata": {},
   "outputs": [],
   "source": [
    "changeProv = [\n",
    "    ('Davao De Oro','Compostela Valley'),\n",
    "    ('Ncr, 2Nd District','Manila'),\n",
    "    ('Ncr, 3Rd District','Manila'),\n",
    "    ('Ncr, 4Th District','Manila'),\n",
    "    ('Ncr, City Of Manila, 1St District','Manila')\n",
    "]\n",
    "\n",
    "for item in changeProv:\n",
    "    mun.loc[mun['Province']==item[0],'Province'] = item[1]\n"
   ]
  },
  {
   "cell_type": "code",
   "execution_count": 33,
   "metadata": {},
   "outputs": [],
   "source": [
    "mun=mun.merge(psgc,\n",
    "              on=['Province','location'],\n",
    "              how='right')"
   ]
  },
  {
   "cell_type": "code",
   "execution_count": 34,
   "metadata": {},
   "outputs": [],
   "source": [
    "mun = mun.drop(829)\n",
    "mun = mun.reset_index()"
   ]
  },
  {
   "cell_type": "code",
   "execution_count": 35,
   "metadata": {},
   "outputs": [
    {
     "name": "stdout",
     "output_type": "stream",
     "text": [
      "location        ESPIRITU\n",
      "Province    Ilocos Norte\n",
      "Name: 1634, dtype: object\n",
      "location    CONCEPCION\n",
      "Province    Ilocos Sur\n",
      "Name: 1635, dtype: object\n",
      "location       ANGKAKI\n",
      "Province    Ilocos Sur\n",
      "Name: 1636, dtype: object\n",
      "location        BAUGEN\n",
      "Province    Ilocos Sur\n",
      "Name: 1637, dtype: object\n",
      "location         LAPOG\n",
      "Province    Ilocos Sur\n",
      "Name: 1638, dtype: object\n",
      "location      FAIRE\n",
      "Province    Cagayan\n",
      "Name: 1639, dtype: object\n",
      "location    MAGSAYSAY\n",
      "Province      Isabela\n",
      "Name: 1640, dtype: object\n",
      "location      BIGAA\n",
      "Province    Bulacan\n",
      "Name: 1641, dtype: object\n",
      "location    BITULOK & SABANI\n",
      "Province         Nueva Ecija\n",
      "Name: 1642, dtype: object\n",
      "location         PAPAYA\n",
      "Province    Nueva Ecija\n",
      "Name: 1643, dtype: object\n",
      "location     SEXMOAN\n",
      "Province    Pampanga\n",
      "Name: 1644, dtype: object\n",
      "location    MENDEZ-NUÑEZ\n",
      "Province          Cavite\n",
      "Name: 1645, dtype: object\n",
      "location    AURORA\n",
      "Province    Quezon\n",
      "Name: 1646, dtype: object\n",
      "location    MONTALBAN\n",
      "Province        Rizal\n",
      "Name: 1647, dtype: object\n",
      "location    LOCSIN\n",
      "Province     Albay\n",
      "Name: 1648, dtype: object\n",
      "location    LIBOG\n",
      "Province    Albay\n",
      "Name: 1649, dtype: object\n",
      "location             IMELDA\n",
      "Province    Camarines Norte\n",
      "Name: 1650, dtype: object\n",
      "location         PARUBCAN\n",
      "Province    Camarines Sur\n",
      "Name: 1651, dtype: object\n",
      "location           PAYO\n",
      "Province    Catanduanes\n",
      "Name: 1652, dtype: object\n",
      "location       CALOLBON\n",
      "Province    Catanduanes\n",
      "Name: 1653, dtype: object\n",
      "location    LIMBUHAN\n",
      "Province     Masbate\n",
      "Name: 1654, dtype: object\n",
      "location        DAO\n",
      "Province    Antique\n",
      "Name: 1655, dtype: object\n",
      "location              SARAVIA\n",
      "Province    Negros Occidental\n",
      "Name: 1656, dtype: object\n",
      "location                 ASIA\n",
      "Province    Negros Occidental\n",
      "Name: 1657, dtype: object\n",
      "location             MAGALLON\n",
      "Province    Negros Occidental\n",
      "Name: 1658, dtype: object\n",
      "location    PITOGO\n",
      "Province     Bohol\n",
      "Name: 1659, dtype: object\n",
      "location    PRES. CARLOS P. GARCIA\n",
      "Province                     Bohol\n",
      "Name: 1660, dtype: object\n",
      "location    BORJA\n",
      "Province    Bohol\n",
      "Name: 1661, dtype: object\n",
      "location    OPON\n",
      "Province    Cebu\n",
      "Name: 1662, dtype: object\n",
      "location          AYUQUITAN\n",
      "Province    Negros Oriental\n",
      "Name: 1663, dtype: object\n",
      "location             TULONG\n",
      "Province    Negros Oriental\n",
      "Name: 1664, dtype: object\n",
      "location            PAYABON\n",
      "Province    Negros Oriental\n",
      "Name: 1665, dtype: object\n",
      "location         LUZURRIAGA\n",
      "Province    Negros Oriental\n",
      "Name: 1666, dtype: object\n",
      "location    BUGHO\n",
      "Province    Leyte\n",
      "Name: 1667, dtype: object\n",
      "location    WRIGHT\n",
      "Province     Samar\n",
      "Name: 1668, dtype: object\n",
      "location          CABALIAN\n",
      "Province    Southern Leyte\n",
      "Name: 1669, dtype: object\n",
      "location              NEW PIÑAN\n",
      "Province    Zamboanga Del Norte\n",
      "Name: 1670, dtype: object\n",
      "location    PRES. MANUEL A. ROXAS\n",
      "Province      Zamboanga Del Norte\n",
      "Name: 1671, dtype: object\n",
      "location                  PONOT\n",
      "Province    Zamboanga Del Norte\n",
      "Name: 1672, dtype: object\n",
      "location               BACUNGAN\n",
      "Province    Zamboanga Del Norte\n",
      "Name: 1673, dtype: object\n",
      "location               LIARGO\n",
      "Province    Zamboanga Del Sur\n",
      "Name: 1674, dtype: object\n",
      "location    DON MARIANO MARCOS\n",
      "Province     Zamboanga Del Sur\n",
      "Name: 1675, dtype: object\n",
      "location          KAROMATAN\n",
      "Province    Lanao Del Norte\n",
      "Name: 1676, dtype: object\n",
      "location    DON MARIANO MARCOS\n",
      "Province    Misamis Occidental\n",
      "Name: 1677, dtype: object\n",
      "location    DON VICTORIANO CHIONGBIAN \n",
      "Province            Misamis Occidental\n",
      "Name: 1678, dtype: object\n",
      "location             LINUGOS\n",
      "Province    Misamis Oriental\n",
      "Name: 1679, dtype: object\n",
      "location               SAUG\n",
      "Province    Davao Del Norte\n",
      "Name: 1680, dtype: object\n",
      "location          SAN VICENTE\n",
      "Province    Compostela Valley\n",
      "Name: 1681, dtype: object\n",
      "location          DOÑA ALICIA\n",
      "Province    Compostela Valley\n",
      "Name: 1682, dtype: object\n",
      "location          SAN MARIANO\n",
      "Province    Compostela Valley\n",
      "Name: 1683, dtype: object\n",
      "location            TRINIDAD\n",
      "Province    Davao Occidental\n",
      "Name: 1684, dtype: object\n",
      "location         DADIANGAS\n",
      "Province    South Cotabato\n",
      "Name: 1685, dtype: object\n",
      "location    MARIANO MARCOS\n",
      "Province    Sultan Kudarat\n",
      "Name: 1686, dtype: object\n",
      "location    TONDO I/II\n",
      "Province        Manila\n",
      "Name: 1687, dtype: object\n",
      "location    BINONDO\n",
      "Province     Manila\n",
      "Name: 1688, dtype: object\n",
      "location    QUIAPO\n",
      "Province    Manila\n",
      "Name: 1689, dtype: object\n",
      "location    SAN NICOLAS\n",
      "Province         Manila\n",
      "Name: 1690, dtype: object\n",
      "location    SANTA CRUZ\n",
      "Province        Manila\n",
      "Name: 1691, dtype: object\n",
      "location    SAMPALOC\n",
      "Province      Manila\n",
      "Name: 1692, dtype: object\n",
      "location    SAN MIGUEL\n",
      "Province        Manila\n",
      "Name: 1693, dtype: object\n",
      "location    ERMITA\n",
      "Province    Manila\n",
      "Name: 1694, dtype: object\n",
      "location    INTRAMUROS\n",
      "Province        Manila\n",
      "Name: 1695, dtype: object\n",
      "location    MALATE\n",
      "Province    Manila\n",
      "Name: 1696, dtype: object\n",
      "location      PACO\n",
      "Province    Manila\n",
      "Name: 1697, dtype: object\n",
      "location    PANDACAN\n",
      "Province      Manila\n",
      "Name: 1698, dtype: object\n",
      "location    PORT AREA\n",
      "Province       Manila\n",
      "Name: 1699, dtype: object\n",
      "location    SANTA ANA\n",
      "Province       Manila\n",
      "Name: 1700, dtype: object\n",
      "location    LICUAN\n",
      "Province      Abra\n",
      "Name: 1701, dtype: object\n",
      "location     POTIA\n",
      "Province    Ifugao\n",
      "Name: 1702, dtype: object\n",
      "location      LIWAN\n",
      "Province    Kalinga\n",
      "Name: 1703, dtype: object\n",
      "location     BAYAG\n",
      "Province    Apayao\n",
      "Name: 1704, dtype: object\n",
      "location    BACOLOD GRANDE\n",
      "Province     Lanao Del Sur\n",
      "Name: 1705, dtype: object\n",
      "location             WATU\n",
      "Province    Lanao Del Sur\n",
      "Name: 1706, dtype: object\n",
      "location        TATARIKAN\n",
      "Province    Lanao Del Sur\n",
      "Name: 1707, dtype: object\n",
      "location             GATA\n",
      "Province    Lanao Del Sur\n",
      "Name: 1708, dtype: object\n",
      "location    SULTAN GUMANDER\n",
      "Province      Lanao Del Sur\n",
      "Name: 1709, dtype: object\n",
      "location         BUMBARAN\n",
      "Province    Lanao Del Sur\n",
      "Name: 1710, dtype: object\n",
      "location       TAGOLOAN 2\n",
      "Province    Lanao Del Sur\n",
      "Name: 1711, dtype: object\n",
      "location         DINAIG\n",
      "Province    Maguindanao\n",
      "Name: 1712, dtype: object\n",
      "location        MAGANOY\n",
      "Province    Maguindanao\n",
      "Name: 1713, dtype: object\n",
      "location         NULING\n",
      "Province    Maguindanao\n",
      "Name: 1714, dtype: object\n",
      "location      LAMBAYONG\n",
      "Province    Maguindanao\n",
      "Name: 1715, dtype: object\n",
      "location         TUMBAO\n",
      "Province    Maguindanao\n",
      "Name: 1716, dtype: object\n",
      "location    MARUNGGAS\n",
      "Province         Sulu\n",
      "Name: 1717, dtype: object\n",
      "location    NEW PANAMAO\n",
      "Province           Sulu\n",
      "Name: 1718, dtype: object\n",
      "location    BALIMBING\n",
      "Province    Tawi-Tawi\n",
      "Name: 1719, dtype: object\n",
      "location    CAGAYAN DE TAWI-TAWI\n",
      "Province               Tawi-Tawi\n",
      "Name: 1720, dtype: object\n",
      "location             ANAO-AON\n",
      "Province    Surigao Del Norte\n",
      "Name: 1721, dtype: object\n",
      "location                SAPAO\n",
      "Province    Surigao Del Norte\n",
      "Name: 1722, dtype: object\n",
      "location              RIZAL\n",
      "Province    Dinagat Islands\n",
      "Name: 1723, dtype: object\n",
      "location              ALBOR\n",
      "Province    Dinagat Islands\n",
      "Name: 1724, dtype: object\n",
      "location           SAN PEDRO\n",
      "Province    Oriental Mindoro\n",
      "Name: 1725, dtype: object\n",
      "location     BACUIT\n",
      "Province    Palawan\n",
      "Name: 1726, dtype: object\n",
      "location     MARCOS\n",
      "Province    Palawan\n",
      "Name: 1727, dtype: object\n",
      "location     IMELDA\n",
      "Province    Romblon\n",
      "Name: 1728, dtype: object\n",
      "location    LEGASPI\n",
      "Province      Albay\n",
      "Name: 1729, dtype: object\n",
      "location                OZAMIS\n",
      "Province    Misamis Occidental\n",
      "Name: 1730, dtype: object\n"
     ]
    }
   ],
   "source": [
    "# Check for missing population data\n",
    "for i in mun[mun['Population'].isnull()].index.tolist():\n",
    "    print(mun.loc[i,['location','Province']])"
   ]
  },
  {
   "cell_type": "markdown",
   "metadata": {},
   "source": [
    "### `subData` data\n",
    "#### Merging `subData` and `mun` using `psgc`"
   ]
  },
  {
   "cell_type": "code",
   "execution_count": 60,
   "metadata": {},
   "outputs": [],
   "source": [
    "subData = pd.read_csv('/Users/lorenzoflores/Desktop/Nerve/Hospitals/Hospitals.csv')"
   ]
  },
  {
   "cell_type": "code",
   "execution_count": 61,
   "metadata": {},
   "outputs": [],
   "source": [
    "subData = subData[['Facility Name','Ownership Major Classification',\n",
    "                   'Ownership Sub-Classification for Government facilities',\n",
    "                   'Region Name','Province Name','City/Municipality Name',\n",
    "                   'Hospital Licensing Status','Service Capability',\n",
    "                  'Bed Capacity','lat','lon']]\n",
    "\n",
    "subData = subData.rename(columns={'City/Municipality Name':'location','Province Name':'Province'})"
   ]
  },
  {
   "cell_type": "markdown",
   "metadata": {},
   "source": [
    "#### Fix names of muni/city"
   ]
  },
  {
   "cell_type": "code",
   "execution_count": 62,
   "metadata": {},
   "outputs": [],
   "source": [
    "subData['location'] = [item.replace(' (Capital)','').replace(' CITY','').replace('CITY OF ','').replace('?','Ñ') for item in subData['location']]\n",
    "subData['location'] = [re.sub(' \\((.*?)\\)','',item) for item in subData['location']]\n",
    "subData['Province'] = [item.title() for item in subData['Province']]\n",
    "subData['Province'] = [re.sub(' \\((.*?)\\)','',item) for item in subData['Province']]\n"
   ]
  },
  {
   "cell_type": "code",
   "execution_count": 63,
   "metadata": {},
   "outputs": [
    {
     "data": {
      "text/plain": [
       "{'BULACAN',\n",
       " 'GEN. MARIANO ALVAREZ',\n",
       " 'ISLAND GARDEN OF SAMAL',\n",
       " 'JALA-JALA',\n",
       " 'TONDO I / II'}"
      ]
     },
     "execution_count": 63,
     "metadata": {},
     "output_type": "execute_result"
    }
   ],
   "source": [
    "set(subData['location']).difference(set(mun['location']))"
   ]
  },
  {
   "cell_type": "code",
   "execution_count": 64,
   "metadata": {},
   "outputs": [],
   "source": [
    "changeSub = [\n",
    " ('BULACAN','BULAKAN'),\n",
    " ('GEN. MARIANO ALVAREZ','GENERAL MARIANO ALVAREZ'),\n",
    " ('ISLAND GARDEN OF SAMAL','SAMAL'),\n",
    " ('JALA-JALA','JALAJALA'),\n",
    " ('PIGKAWAYAN','PIGCAWAYAN'),\n",
    " ('SCIENCE OF MUÑOZ','MUÑOZ'),\n",
    " ('SEN. NINOY AQUINO','SENATOR NINOY AQUINO'),\n",
    " ('TONDO I / II','TONDO I/II'),\n",
    " ('TONGKIL','BANGUINGUI')]\n",
    "\n",
    "for item in changeSub:\n",
    "    subData.loc[subData['location']==item[0],'location'] = item[1]\n"
   ]
  },
  {
   "cell_type": "code",
   "execution_count": 65,
   "metadata": {},
   "outputs": [],
   "source": [
    "subData.loc[(subData['Province']=='Antique') & (subData['location']=='SAN JOSE'),'location'] = 'SAN JOSE DE BUENAVISTA'\n"
   ]
  },
  {
   "cell_type": "code",
   "execution_count": 66,
   "metadata": {},
   "outputs": [],
   "source": [
    "#set(mun['Province']).difference(set(subData['Province']))"
   ]
  },
  {
   "cell_type": "code",
   "execution_count": 67,
   "metadata": {},
   "outputs": [],
   "source": [
    "#set(subData['Province']).difference(set(mun['Province']))"
   ]
  },
  {
   "cell_type": "code",
   "execution_count": 68,
   "metadata": {},
   "outputs": [],
   "source": [
    "#set(subData['location']).difference(set(mun['location']))"
   ]
  },
  {
   "cell_type": "code",
   "execution_count": 69,
   "metadata": {},
   "outputs": [],
   "source": [
    "subData.loc[subData['Province']=='City Of Isabela','Province'] = 'Basilan'\n",
    "subData.loc[subData['Province']=='Cotabato City','Province'] = 'Maguindanao'\n",
    "subData.loc[subData['Province']=='Ncr, Second District','Province'] = 'Manila'\n",
    "subData.loc[subData['Province']=='Ncr, Third District','Province'] = 'Manila'\n",
    "subData.loc[subData['Province']=='Ncr, Fourth District','Province'] = 'Manila'\n",
    "subData.loc[subData['Province']=='Ncr, City Of Manila, First District','Province'] = 'Manila'\n",
    "subData.loc[(subData['Province']=='Antique') & (subData['location']=='SAN JOSE'),'City/Municipality Name'] = 'SAN JOSE DE BUENAVISTA'"
   ]
  },
  {
   "cell_type": "code",
   "execution_count": 70,
   "metadata": {},
   "outputs": [],
   "source": [
    "subData = pd.merge(subData, \n",
    "                   mun[['Province','location','code']], \n",
    "                   on=['location','Province'], \n",
    "                   how='left')"
   ]
  },
  {
   "cell_type": "code",
   "execution_count": 71,
   "metadata": {},
   "outputs": [
    {
     "data": {
      "text/html": [
       "<div>\n",
       "<style scoped>\n",
       "    .dataframe tbody tr th:only-of-type {\n",
       "        vertical-align: middle;\n",
       "    }\n",
       "\n",
       "    .dataframe tbody tr th {\n",
       "        vertical-align: top;\n",
       "    }\n",
       "\n",
       "    .dataframe thead th {\n",
       "        text-align: right;\n",
       "    }\n",
       "</style>\n",
       "<table border=\"1\" class=\"dataframe\">\n",
       "  <thead>\n",
       "    <tr style=\"text-align: right;\">\n",
       "      <th></th>\n",
       "      <th>Province</th>\n",
       "      <th>location</th>\n",
       "    </tr>\n",
       "  </thead>\n",
       "  <tbody>\n",
       "  </tbody>\n",
       "</table>\n",
       "</div>"
      ],
      "text/plain": [
       "Empty DataFrame\n",
       "Columns: [Province, location]\n",
       "Index: []"
      ]
     },
     "execution_count": 71,
     "metadata": {},
     "output_type": "execute_result"
    }
   ],
   "source": [
    "# Data Checking\n",
    "subData['codenan'] = [1 if math.isnan(item) else 0 for item in subData['code']]\n",
    "subData[subData['codenan']==1][['Province','location']]"
   ]
  },
  {
   "cell_type": "code",
   "execution_count": 72,
   "metadata": {},
   "outputs": [],
   "source": [
    "subData['code'] = subData['code'].astype(int)"
   ]
  },
  {
   "cell_type": "code",
   "execution_count": 198,
   "metadata": {},
   "outputs": [],
   "source": [
    "subData.to_csv(\"subData.csv\")"
   ]
  },
  {
   "cell_type": "markdown",
   "metadata": {},
   "source": [
    "## Bed and Facility Counts"
   ]
  },
  {
   "cell_type": "code",
   "execution_count": 87,
   "metadata": {},
   "outputs": [],
   "source": [
    "subData[['code',\n",
    "         'Facility Name']].groupby('code').count().to_csv('/Users/lorenzoflores/Desktop/Nerve/Hospitals/FacilityCount.csv')\n"
   ]
  },
  {
   "cell_type": "code",
   "execution_count": 88,
   "metadata": {},
   "outputs": [],
   "source": [
    "subData[['code',\n",
    "         'Bed Capacity']].groupby(['code']).sum().to_csv('/Users/lorenzoflores/Desktop/Nerve/Hospitals/BedCount.csv')\n"
   ]
  },
  {
   "cell_type": "markdown",
   "metadata": {},
   "source": [
    "### Summary Statistics"
   ]
  },
  {
   "cell_type": "code",
   "execution_count": 138,
   "metadata": {},
   "outputs": [],
   "source": [
    "bedTemp = pd.merge(mun, subData[['code',\n",
    "         'Bed Capacity']].groupby(['code']).sum(), on='code', how='left')"
   ]
  },
  {
   "cell_type": "code",
   "execution_count": 139,
   "metadata": {},
   "outputs": [],
   "source": [
    "bedTemp['Bed Capacity'] = bedTemp['Bed Capacity'].fillna(0)"
   ]
  },
  {
   "cell_type": "code",
   "execution_count": 140,
   "metadata": {},
   "outputs": [],
   "source": [
    "bedTemp['ratio'] = 1000*(bedTemp['Bed Capacity']/bedTemp['Population'])"
   ]
  },
  {
   "cell_type": "code",
   "execution_count": 141,
   "metadata": {},
   "outputs": [],
   "source": [
    "bedTemp = bedTemp[bedTemp['ratio'].notnull()]"
   ]
  },
  {
   "cell_type": "code",
   "execution_count": 142,
   "metadata": {},
   "outputs": [
    {
     "data": {
      "text/plain": [
       "0.41254187303829865"
      ]
     },
     "execution_count": 142,
     "metadata": {},
     "output_type": "execute_result"
    }
   ],
   "source": [
    "#Overall\n",
    "np.nansum(bedTemp['ratio'])/len(bedTemp['ratio'])"
   ]
  },
  {
   "cell_type": "code",
   "execution_count": 199,
   "metadata": {},
   "outputs": [],
   "source": [
    "bedTemp['Urban'] = [1 if item in ['Manila','Cebu','Cavite','Bulacan', \n",
    "                                  'Negros Occidental', 'Laguna', 'Pangasinan', \n",
    "                                  'Rizal', 'Batangas', 'Pampanga']\n",
    "                   else 0 for item in bedTemp['Province']]"
   ]
  },
  {
   "cell_type": "code",
   "execution_count": 200,
   "metadata": {},
   "outputs": [
    {
     "data": {
      "text/plain": [
       "2.2116827926952047"
      ]
     },
     "execution_count": 200,
     "metadata": {},
     "output_type": "execute_result"
    }
   ],
   "source": [
    "np.nansum(bedTemp[bedTemp['Province']=='Manila']['ratio'])/len(bedTemp[bedTemp['Province']=='Manila']['ratio'])\n"
   ]
  },
  {
   "cell_type": "code",
   "execution_count": 201,
   "metadata": {},
   "outputs": [
    {
     "data": {
      "text/plain": [
       "0.5619026288040663"
      ]
     },
     "execution_count": 201,
     "metadata": {},
     "output_type": "execute_result"
    }
   ],
   "source": [
    "np.nansum(bedTemp[bedTemp['Urban']==1]['ratio'])/len(bedTemp[bedTemp['Urban']==1]['ratio'])\n"
   ]
  },
  {
   "cell_type": "code",
   "execution_count": 202,
   "metadata": {},
   "outputs": [
    {
     "data": {
      "text/plain": [
       "0.37936300657425"
      ]
     },
     "execution_count": 202,
     "metadata": {},
     "output_type": "execute_result"
    }
   ],
   "source": [
    "np.nansum(bedTemp[bedTemp['Urban']==0]['ratio'])/len(bedTemp[bedTemp['Urban']==0]['ratio'])\n"
   ]
  },
  {
   "cell_type": "markdown",
   "metadata": {},
   "source": [
    "## Municipality Polygons"
   ]
  },
  {
   "cell_type": "code",
   "execution_count": 207,
   "metadata": {},
   "outputs": [],
   "source": [
    "import json\n",
    "with open('/Users/lorenzoflores/Desktop/Nerve/Hospitals/MuniCities.json') as json_file:\n",
    "    municipality = json.load(json_file)"
   ]
  },
  {
   "cell_type": "markdown",
   "metadata": {},
   "source": [
    "#### Clean polygon names same as `subData`, `psgc`, `mun`"
   ]
  },
  {
   "cell_type": "code",
   "execution_count": 208,
   "metadata": {},
   "outputs": [],
   "source": [
    "lst = []\n",
    "lst2 = []\n",
    "for i in range(1647):    \n",
    "    location = municipality['features'][i]['properties']['NAME_2'].upper()\n",
    "    location = location.replace(' (Capital)','').replace(' CITY','').replace('CITY OF ','').replace('?','Ñ')\n",
    "    location = re.sub(' \\((.*?)\\)','',location)\n",
    "    \n",
    "    municipality['features'][i]['properties']['NAME_2'] =  location\n",
    "\n",
    "    Province = municipality['features'][i]['properties']['PROVINCE'].title()\n",
    "    Province = re.sub(' \\((.*?)\\)','',Province) \n",
    "    \n",
    "    municipality['features'][i]['properties']['PROVINCE'] = Province\n",
    "    \n",
    "    lst.append(location)\n",
    "    lst2.append(Province)"
   ]
  },
  {
   "cell_type": "code",
   "execution_count": 209,
   "metadata": {},
   "outputs": [],
   "source": [
    "tempPol = pd.DataFrame({'location':lst,\n",
    "                        'Province':lst2})"
   ]
  },
  {
   "cell_type": "markdown",
   "metadata": {},
   "source": [
    "#### Identify naming differences between `municipalities` and `mun`"
   ]
  },
  {
   "cell_type": "code",
   "execution_count": 210,
   "metadata": {},
   "outputs": [],
   "source": [
    "polygonList = []\n",
    "for i in range(tempPol.shape[0]):\n",
    "    polygonList.append(tempPol['location'][i]+', '+tempPol['Province'][i])"
   ]
  },
  {
   "cell_type": "code",
   "execution_count": 211,
   "metadata": {},
   "outputs": [],
   "source": [
    "munList = []\n",
    "for i in range(mun.shape[0]):\n",
    "    munList.append(mun['location'][i]+', '+mun['Province'][i])"
   ]
  },
  {
   "cell_type": "code",
   "execution_count": 212,
   "metadata": {
    "collapsed": true
   },
   "outputs": [
    {
     "data": {
      "text/plain": [
       "{'ALAMADA, North Cotabato',\n",
       " 'ALBUQUERQUE, Bohol',\n",
       " 'ALEOSAN, North Cotabato',\n",
       " 'ALFONSO CASTANEDA, Nueva Vizcaya',\n",
       " 'ANTIPAS, North Cotabato',\n",
       " 'ARAKAN, North Cotabato',\n",
       " 'BACOLOD KALAWI, Lanao Del Sur',\n",
       " 'BANISILAN, North Cotabato',\n",
       " 'BARIRA, Shariff Kabunsuan',\n",
       " 'BATO LAKE, Albay',\n",
       " 'BATO LAKE, Camarines Sur',\n",
       " 'BUHI LAKE, Camarines Sur',\n",
       " 'BULACAN, Bulacan',\n",
       " 'BULDON, Shariff Kabunsuan',\n",
       " 'BULUAN LAKE, Maguindanao',\n",
       " 'BULUAN LAKE, Sultan Kudarat',\n",
       " 'BUTIG, Lanao Del Sur',\n",
       " 'CARMEN, North Cotabato',\n",
       " 'CORDOBA, Cebu',\n",
       " 'DANAO LAKE, Cebu',\n",
       " 'DAPAO LAKE, Lanao Del Sur',\n",
       " 'DATU ABDULLAH SANKI, Maguindanao',\n",
       " 'DATU BLAH T. SINSUAT, Shariff Kabunsuan',\n",
       " 'DATU ODIN SINSUAT, Shariff Kabunsuan',\n",
       " 'DON MARCELINO, Davao Del Sur',\n",
       " 'DUENAS, Iloilo',\n",
       " 'GEN. S. K. PENDATUN, Maguindanao',\n",
       " 'HINUNANGAN, Quezon',\n",
       " 'IMPASUG-ONG, Bukidnon',\n",
       " 'JALA-JALA, Rizal',\n",
       " 'JETAFE, Bohol',\n",
       " 'JOSE ABAD SANTOS, Davao Del Sur',\n",
       " 'KABACAN, North Cotabato',\n",
       " 'KABUNTALAN, Shariff Kabunsuan',\n",
       " 'KALIBATO LAKE, Laguna',\n",
       " 'KALOOKAN, Metropolitan Manila',\n",
       " 'KIDAPAWAN, North Cotabato',\n",
       " 'LAGUNA LAKE, Laguna',\n",
       " 'LAKEWOOD LAKE, Zamboanga Del Sur',\n",
       " 'LANAO LAKE, Lanao Del Sur',\n",
       " 'LAS PIÑAS, Metropolitan Manila',\n",
       " 'LIBUNGAN, North Cotabato',\n",
       " 'LUMBACA UNAYAN, Lanao Del Sur',\n",
       " \"M'LANG, North Cotabato\",\n",
       " 'MA-AYON, Capiz',\n",
       " 'MAGPET, North Cotabato',\n",
       " 'MAINIT LAKE, Agusan Del Norte',\n",
       " 'MAINIT LAKE, Surigao Del Norte',\n",
       " 'MAKATI, Metropolitan Manila',\n",
       " 'MAKILALA, North Cotabato',\n",
       " 'MALABON, Metropolitan Manila',\n",
       " 'MALITA, Davao Del Sur',\n",
       " 'MANDALUYONG, Metropolitan Manila',\n",
       " 'MANILA, Metropolitan Manila',\n",
       " 'MARIKINA, Metropolitan Manila',\n",
       " 'MATAAS NA KAHOY, Batangas',\n",
       " 'MATALAM, North Cotabato',\n",
       " 'MATANOG, Shariff Kabunsuan',\n",
       " 'MIDSAYAP, North Cotabato',\n",
       " 'MUNTINLUPA, Metropolitan Manila',\n",
       " 'NAUJAN LAKE, Oriental Mindoro',\n",
       " 'NAVOTAS, Metropolitan Manila',\n",
       " 'NORTHERN KABUNTALAN, Shariff Kabunsuan',\n",
       " 'PAGAGAWAN, Maguindanao',\n",
       " 'PALAKPAKIN LAKE, Laguna',\n",
       " 'PAOAY LAKE, Ilocos Norte',\n",
       " 'PARANG, Shariff Kabunsuan',\n",
       " 'PARAÑAQUE, Metropolitan Manila',\n",
       " 'PASAY, Metropolitan Manila',\n",
       " 'PASIG, Metropolitan Manila',\n",
       " 'PATEROS, Metropolitan Manila',\n",
       " 'PIGKAWAYAN, North Cotabato',\n",
       " 'PIKIT, North Cotabato',\n",
       " 'PINAMUNGAHAN, Cebu',\n",
       " 'PINAN, Zamboanga Del Norte',\n",
       " 'POZZORUBIO, Pangasinan',\n",
       " 'PRESIDENT ROXAS, North Cotabato',\n",
       " 'QUEZON, Metropolitan Manila',\n",
       " 'SAGNAY, Camarines Sur',\n",
       " 'SAMPALOC LAKE, Laguna',\n",
       " 'SAN JOSE, Antique',\n",
       " 'SAN JUAN, Metropolitan Manila',\n",
       " 'SANTA MARIA, Davao Del Sur',\n",
       " 'SANTO NINO, Samar',\n",
       " 'SANTO NINO, South Cotabato',\n",
       " 'SAPI-AN, Capiz',\n",
       " 'SARANGANI, Davao Del Sur',\n",
       " 'SEN. NINOY AQUINO, Sultan Kudarat',\n",
       " 'SERGIO OSMENA SR., Zamboanga Del Norte',\n",
       " 'SOFRONIO ESPANOLA, Palawan',\n",
       " 'SULTAN KUDARAT, Shariff Kabunsuan',\n",
       " 'SULTAN MASTURA, Shariff Kabunsuan',\n",
       " 'TAAL LAKE, Batangas',\n",
       " 'TAGUIG, Metropolitan Manila',\n",
       " 'TALITAY, Maguindanao',\n",
       " 'TONGKIL, Sulu',\n",
       " 'TULUNAN, North Cotabato',\n",
       " 'UPI, Shariff Kabunsuan',\n",
       " 'VALENZUELA, Metropolitan Manila',\n",
       " 'WATERBODY, Laguna'}"
      ]
     },
     "execution_count": 212,
     "metadata": {},
     "output_type": "execute_result"
    }
   ],
   "source": [
    "set(polygonList).difference(set(munList))"
   ]
  },
  {
   "cell_type": "code",
   "execution_count": 213,
   "metadata": {
    "collapsed": true
   },
   "outputs": [
    {
     "data": {
      "text/plain": [
       "{'ALAMADA, Cotabato',\n",
       " 'ALBOR, Dinagat Islands',\n",
       " 'ALBURQUERQUE, Bohol',\n",
       " 'ALEOSAN, Cotabato',\n",
       " 'ALFONSO CASTAÑEDA, Nueva Vizcaya',\n",
       " 'AMAI MANABILANG, Lanao Del Sur',\n",
       " 'ANAO-AON, Surigao Del Norte',\n",
       " 'ANGKAKI, Ilocos Sur',\n",
       " 'ANTIPAS, Cotabato',\n",
       " 'ARAKAN, Cotabato',\n",
       " 'ASIA, Negros Occidental',\n",
       " 'AURORA, Quezon',\n",
       " 'AYUQUITAN, Negros Oriental',\n",
       " 'BACOLOD GRANDE, Lanao Del Sur',\n",
       " 'BACOLOD-KALAWI, Lanao Del Sur',\n",
       " 'BACUIT, Palawan',\n",
       " 'BALIMBING, Tawi-Tawi',\n",
       " 'BANGUINGUI, Sulu',\n",
       " 'BANISILAN, Cotabato',\n",
       " 'BARIRA, Maguindanao',\n",
       " 'BAUGEN, Ilocos Sur',\n",
       " 'BAYAG, Apayao',\n",
       " 'BIGAA, Bulacan',\n",
       " 'BINONDO, Manila',\n",
       " 'BITULOK & SABANI, Nueva Ecija',\n",
       " 'BORJA, Bohol',\n",
       " 'BUGHO, Leyte',\n",
       " 'BULAKAN, Bulacan',\n",
       " 'BULDON, Maguindanao',\n",
       " 'CABALIAN, Southern Leyte',\n",
       " 'CAGAYAN DE TAWI-TAWI, Tawi-Tawi',\n",
       " 'CALOLBON, Catanduanes',\n",
       " 'CALOOCAN, Manila',\n",
       " 'CARMEN, Cotabato',\n",
       " 'CONCEPCION, Ilocos Sur',\n",
       " 'CORDOVA, Cebu',\n",
       " 'DADIANGAS, South Cotabato',\n",
       " 'DAO, Antique',\n",
       " 'DATU ABDULLAH SANGKI, Maguindanao',\n",
       " 'DATU BLAH T. SINSUAT, Maguindanao',\n",
       " 'DATU HOFFER AMPATUAN, Maguindanao',\n",
       " 'DATU MONTAWAL, Maguindanao',\n",
       " 'DATU ODIN SINSUAT, Maguindanao',\n",
       " 'DATU SALIBO, Maguindanao',\n",
       " 'DINAIG, Maguindanao',\n",
       " 'DON MARCELINO, Davao Occidental',\n",
       " 'DON MARIANO MARCOS, Misamis Occidental',\n",
       " 'DON MARIANO MARCOS, Zamboanga Del Sur',\n",
       " 'DON VICTORIANO CHIONGBIAN , Misamis Occidental',\n",
       " 'DOÑA ALICIA, Compostela Valley',\n",
       " 'DUEÑAS, Iloilo',\n",
       " 'ERMITA, Manila',\n",
       " 'ESPIRITU, Ilocos Norte',\n",
       " 'FAIRE, Cagayan',\n",
       " 'GATA, Lanao Del Sur',\n",
       " 'GENERAL SALIPADA K. PENDATUN, Maguindanao',\n",
       " 'GETAFE, Bohol',\n",
       " 'HADJI MUHTAMAD, Basilan',\n",
       " 'IMELDA, Camarines Norte',\n",
       " 'IMELDA, Romblon',\n",
       " 'IMPASUGONG, Bukidnon',\n",
       " 'INTRAMUROS, Manila',\n",
       " 'JALAJALA, Rizal',\n",
       " 'JOSE ABAD SANTOS, Davao Occidental',\n",
       " 'KABACAN, Cotabato',\n",
       " 'KABUNTALAN, Maguindanao',\n",
       " 'KALAYAAN, Palawan',\n",
       " 'KAROMATAN, Lanao Del Norte',\n",
       " 'KIDAPAWAN, Cotabato',\n",
       " 'LAMBAYONG, Maguindanao',\n",
       " 'LAPOG, Ilocos Sur',\n",
       " 'LAS PIÑAS, Manila',\n",
       " 'LEGASPI, Albay',\n",
       " 'LEON B. POSTIGO, Zamboanga Del Norte',\n",
       " 'LIARGO, Zamboanga Del Sur',\n",
       " 'LIBOG, Albay',\n",
       " 'LIBUNGAN, Cotabato',\n",
       " 'LICUAN, Abra',\n",
       " 'LIMBUHAN, Masbate',\n",
       " 'LINUGOS, Misamis Oriental',\n",
       " 'LIWAN, Kalinga',\n",
       " 'LOCSIN, Albay',\n",
       " 'LUMBACA-UNAYAN, Lanao Del Sur',\n",
       " 'LUZURRIAGA, Negros Oriental',\n",
       " \"M'LANG, Cotabato\",\n",
       " 'MAAYON, Capiz',\n",
       " 'MAGALLON, Negros Occidental',\n",
       " 'MAGANOY, Maguindanao',\n",
       " 'MAGPET, Cotabato',\n",
       " 'MAGSAYSAY, Isabela',\n",
       " 'MAKATI, Manila',\n",
       " 'MAKILALA, Cotabato',\n",
       " 'MALABON, Manila',\n",
       " 'MALATE, Manila',\n",
       " 'MALITA, Davao Occidental',\n",
       " 'MANDALUYONG, Manila',\n",
       " 'MANILA, Manila',\n",
       " 'MARCOS, Palawan',\n",
       " 'MARIANO MARCOS, Sultan Kudarat',\n",
       " 'MARIKINA, Manila',\n",
       " 'MARUNGGAS, Sulu',\n",
       " 'MATAASNAKAHOY, Batangas',\n",
       " 'MATALAM, Cotabato',\n",
       " 'MATANOG, Maguindanao',\n",
       " 'MENDEZ-NUÑEZ, Cavite',\n",
       " 'MIDSAYAP, Cotabato',\n",
       " 'MONTALBAN, Rizal',\n",
       " 'MUNTINLUPA, Manila',\n",
       " 'NAVOTAS, Manila',\n",
       " 'NEW PANAMAO, Sulu',\n",
       " 'NEW PIÑAN, Zamboanga Del Norte',\n",
       " 'NORTHERN KABUNTALAN, Maguindanao',\n",
       " 'NULING, Maguindanao',\n",
       " 'OMAR, Sulu',\n",
       " 'OPON, Cebu',\n",
       " 'OZAMIZ, Misamis Occidental',\n",
       " 'PACO, Manila',\n",
       " 'PANDACAN, Manila',\n",
       " 'PAPAYA, Nueva Ecija',\n",
       " 'PARANG, Maguindanao',\n",
       " 'PARAÑAQUE, Manila',\n",
       " 'PARUBCAN, Camarines Sur',\n",
       " 'PASAY, Manila',\n",
       " 'PASIG, Manila',\n",
       " 'PATEROS, Manila',\n",
       " 'PAYABON, Negros Oriental',\n",
       " 'PAYO, Catanduanes',\n",
       " 'PIGCAWAYAN, Cotabato',\n",
       " 'PIKIT, Cotabato',\n",
       " 'PINAMUNGAJAN, Cebu',\n",
       " 'PITOGO, Bohol',\n",
       " 'PIÑAN, Zamboanga Del Norte',\n",
       " 'PONOT, Zamboanga Del Norte',\n",
       " 'PORT AREA, Manila',\n",
       " 'POTIA, Ifugao',\n",
       " 'POZORRUBIO, Pangasinan',\n",
       " 'PRESIDENT CARLOS P. GARCIA, Bohol',\n",
       " 'PRESIDENT MANUEL A. ROXAS, Zamboanga Del Norte',\n",
       " 'PRESIDENT ROXAS, Cotabato',\n",
       " 'QUEZON, Manila',\n",
       " 'QUIAPO, Manila',\n",
       " 'RIZAL, Dinagat Islands',\n",
       " 'SAGÑAY, Camarines Sur',\n",
       " 'SAMPALOC, Manila',\n",
       " 'SAN JOSE DE BUENAVISTA, Antique',\n",
       " 'SAN JUAN, Manila',\n",
       " 'SAN MARIANO, Compostela Valley',\n",
       " 'SAN MIGUEL, Manila',\n",
       " 'SAN NICOLAS, Manila',\n",
       " 'SAN PEDRO, Oriental Mindoro',\n",
       " 'SAN VICENTE, Compostela Valley',\n",
       " 'SANTA ANA, Manila',\n",
       " 'SANTA CRUZ, Manila',\n",
       " 'SANTA MARIA, Davao Occidental',\n",
       " 'SANTO NIÑO, Samar',\n",
       " 'SANTO NIÑO, South Cotabato',\n",
       " 'SAPAO, Surigao Del Norte',\n",
       " 'SAPIAN, Capiz',\n",
       " 'SARANGANI, Davao Occidental',\n",
       " 'SARAVIA, Negros Occidental',\n",
       " 'SAUG, Davao Del Norte',\n",
       " 'SENATOR NINOY AQUINO, Sultan Kudarat',\n",
       " 'SERGIO OSMEÑA SR., Zamboanga Del Norte',\n",
       " 'SEXMOAN, Pampanga',\n",
       " 'SHARIFF SAYDONA MUSTAPHA, Maguindanao',\n",
       " 'SOFRONIO ESPAÑOLA, Palawan',\n",
       " 'SULTAN GUMANDER, Lanao Del Sur',\n",
       " 'SULTAN KUDARAT, Maguindanao',\n",
       " 'SULTAN MASTURA, Maguindanao',\n",
       " 'SULTAN SUMAGKA, Maguindanao',\n",
       " 'TABUAN-LASA, Basilan',\n",
       " 'TAGOLOAN 2, Lanao Del Sur',\n",
       " 'TAGUIG, Manila',\n",
       " 'TATARIKAN, Lanao Del Sur',\n",
       " 'TONDO I/II, Manila',\n",
       " 'TRINIDAD, Davao Occidental',\n",
       " 'TULONG, Negros Oriental',\n",
       " 'TULUNAN, Cotabato',\n",
       " 'TUMBAO, Maguindanao',\n",
       " 'UPI, Maguindanao',\n",
       " 'VALENZUELA, Manila',\n",
       " 'WATU, Lanao Del Sur',\n",
       " 'WRIGHT, Samar'}"
      ]
     },
     "execution_count": 213,
     "metadata": {},
     "output_type": "execute_result"
    }
   ],
   "source": [
    "set(munList).difference(set(polygonList))"
   ]
  },
  {
   "cell_type": "code",
   "execution_count": 214,
   "metadata": {},
   "outputs": [],
   "source": [
    "changeProvList = [('North Cotabato','Cotabato'),\n",
    "('Metropolitan Manila','Manila'),\n",
    "('Shariff Kabunsuan','Maguindanao')]\n"
   ]
  },
  {
   "cell_type": "code",
   "execution_count": 215,
   "metadata": {},
   "outputs": [],
   "source": [
    "changeList = [('ALBURQUERQUE','ALBUQUERQUE'),\n",
    "('ALFONSO CASTAÑEDA','ALFONSO CASTANEDA'),\n",
    "('BACOLOD-KALAWI','BACOLOD KALAWI'),\n",
    "('BULAKAN','BULACAN'),\n",
    "('CALOOCAN','KALOOKAN'),\n",
    "('CORDOVA','CORDOBA'),\n",
    "('DATU ABDULLAH SANGKI','DATU ABDULLAH SANKI'),\n",
    "('DUEÑAS','DUENAS'),\n",
    "('GENERAL SALIPADA K. PENDATUN','GEN. S. K. PENDATUN'),\n",
    "('GETAFE','JETAFE'),\n",
    "('JALAJALA','JALA-JALA'),\n",
    "('IMPASUGONG','IMPASUG-ONG'),\n",
    "('LUMBACA-UNAYAN','LUMBACA UNAYAN'),\n",
    "('MAAYON','MA-AYON'),\n",
    "('MATAASNAKAHOY','MATAAS NA KAHOY'),\n",
    "('OZAMIZ','OZAMIS'),\n",
    "('PIGCAWAYAN','PIGKAWAYAN'),\n",
    "('PINAMUNGAJAN','PINAMUNGAHAN'),\n",
    "('PIÑAN','PINAN'),\n",
    "('POZORRUBIO','POZZORUBIO'),\n",
    "('PRESIDENT CARLOS P. GARCIA','PRES. CARLOS P. GARCIA'),\n",
    "('PRESIDENT MANUEL A. ROXAS','PRES. MANUEL A. ROXAS'),\n",
    "('SAGÑAY','SAGNAY'),\n",
    "('SAPIAN','SAPI-AN'),\n",
    "('SENATOR NINOY AQUINO','SEN. NINOY AQUINO'),\n",
    "('SERGIO OSMEÑA SR.','SERGIO OSMENA SR.'),\n",
    "('SOFRONIO ESPAÑOLA','SOFRONIO ESPANOLA'),\n",
    "('BANGUINGUI','TONGKIL'),\n",
    "('SANTO NIÑO','SANTO NINO'),\n",
    "('LEON B. POSTIGO','BACUNGAN'),\n",
    "('AMAI MANABILANG','BUMBARAN'),\n",
    "('SULTAN SUMAGKA','TALITAY')]"
   ]
  },
  {
   "cell_type": "code",
   "execution_count": 216,
   "metadata": {},
   "outputs": [],
   "source": [
    "changeName = [('DON MARCELINO, Davao Del Sur','Davao Occidental'),\n",
    "              ('JOSE ABAD SANTOS, Davao Del Sur','Davao Occidental'),\n",
    "              ('MALITA, Davao Del Sur','Davao Occidental'),\n",
    "              ('SANTA MARIA, Davao Del Sur','Davao Occidental'),\n",
    "              ('SARANGANI, Davao Del Sur','Davao Occidental')]"
   ]
  },
  {
   "cell_type": "code",
   "execution_count": 217,
   "metadata": {},
   "outputs": [],
   "source": [
    "for i in range(1647):\n",
    "    location = municipality['features'][i]['properties']['NAME_2']\n",
    "    Province = municipality['features'][i]['properties']['PROVINCE']\n",
    "    name = location+', '+Province\n",
    "    \n",
    "    for item in changeList:\n",
    "        if item[1]==location:\n",
    "            municipality['features'][i]['properties']['NAME_2'] = item[0]\n",
    "    for item in changeProvList:\n",
    "        if item[0]==Province:\n",
    "            municipality['features'][i]['properties']['PROVINCE'] = item[1]\n",
    "    for item in changeName:\n",
    "        if name==item[0]:\n",
    "            municipality['features'][i]['properties']['PROVINCE'] = item[1]\n",
    "    if name == 'SAN JOSE, Antique':\n",
    "        municipality['features'][i]['properties']['NAME_2'] = 'SAN JOSE DE BUENAVISTA'"
   ]
  },
  {
   "cell_type": "markdown",
   "metadata": {},
   "source": [
    "#### Recheck discrepancies"
   ]
  },
  {
   "cell_type": "code",
   "execution_count": 218,
   "metadata": {},
   "outputs": [],
   "source": [
    "lst = []\n",
    "lst2 = []\n",
    "for i in range(1647):    \n",
    "    location = municipality['features'][i]['properties']['NAME_2']\n",
    "    Province = municipality['features'][i]['properties']['PROVINCE']\n",
    "    lst.append(location)\n",
    "    lst2.append(Province)"
   ]
  },
  {
   "cell_type": "code",
   "execution_count": 219,
   "metadata": {},
   "outputs": [],
   "source": [
    "tempPol = pd.DataFrame({'location':lst,\n",
    "                        'Province':lst2})"
   ]
  },
  {
   "cell_type": "code",
   "execution_count": 220,
   "metadata": {},
   "outputs": [],
   "source": [
    "polygonList = []\n",
    "for i in range(tempPol.shape[0]):\n",
    "    polygonList.append(tempPol['location'][i]+', '+tempPol['Province'][i])"
   ]
  },
  {
   "cell_type": "code",
   "execution_count": 221,
   "metadata": {
    "collapsed": true
   },
   "outputs": [
    {
     "data": {
      "text/plain": [
       "{'BATO LAKE, Albay',\n",
       " 'BATO LAKE, Camarines Sur',\n",
       " 'BUHI LAKE, Camarines Sur',\n",
       " 'BULUAN LAKE, Maguindanao',\n",
       " 'BULUAN LAKE, Sultan Kudarat',\n",
       " 'BUTIG, Lanao Del Sur',\n",
       " 'DANAO LAKE, Cebu',\n",
       " 'DAPAO LAKE, Lanao Del Sur',\n",
       " 'HINUNANGAN, Quezon',\n",
       " 'KALIBATO LAKE, Laguna',\n",
       " 'LAGUNA LAKE, Laguna',\n",
       " 'LAKEWOOD LAKE, Zamboanga Del Sur',\n",
       " 'LANAO LAKE, Lanao Del Sur',\n",
       " 'MAINIT LAKE, Agusan Del Norte',\n",
       " 'MAINIT LAKE, Surigao Del Norte',\n",
       " 'NAUJAN LAKE, Oriental Mindoro',\n",
       " 'PAGAGAWAN, Maguindanao',\n",
       " 'PALAKPAKIN LAKE, Laguna',\n",
       " 'PAOAY LAKE, Ilocos Norte',\n",
       " 'SAMPALOC LAKE, Laguna',\n",
       " 'TAAL LAKE, Batangas',\n",
       " 'WATERBODY, Laguna'}"
      ]
     },
     "execution_count": 221,
     "metadata": {},
     "output_type": "execute_result"
    }
   ],
   "source": [
    "set(polygonList).difference(set(munList))"
   ]
  },
  {
   "cell_type": "code",
   "execution_count": 222,
   "metadata": {
    "collapsed": true
   },
   "outputs": [
    {
     "data": {
      "text/plain": [
       "{'ALBOR, Dinagat Islands',\n",
       " 'ANAO-AON, Surigao Del Norte',\n",
       " 'ANGKAKI, Ilocos Sur',\n",
       " 'ASIA, Negros Occidental',\n",
       " 'AURORA, Quezon',\n",
       " 'AYUQUITAN, Negros Oriental',\n",
       " 'BACOLOD GRANDE, Lanao Del Sur',\n",
       " 'BACUIT, Palawan',\n",
       " 'BACUNGAN, Zamboanga Del Norte',\n",
       " 'BALIMBING, Tawi-Tawi',\n",
       " 'BAUGEN, Ilocos Sur',\n",
       " 'BAYAG, Apayao',\n",
       " 'BIGAA, Bulacan',\n",
       " 'BINONDO, Manila',\n",
       " 'BITULOK & SABANI, Nueva Ecija',\n",
       " 'BORJA, Bohol',\n",
       " 'BUGHO, Leyte',\n",
       " 'BUMBARAN, Lanao Del Sur',\n",
       " 'CABALIAN, Southern Leyte',\n",
       " 'CAGAYAN DE TAWI-TAWI, Tawi-Tawi',\n",
       " 'CALOLBON, Catanduanes',\n",
       " 'CONCEPCION, Ilocos Sur',\n",
       " 'DADIANGAS, South Cotabato',\n",
       " 'DAO, Antique',\n",
       " 'DATU HOFFER AMPATUAN, Maguindanao',\n",
       " 'DATU MONTAWAL, Maguindanao',\n",
       " 'DATU SALIBO, Maguindanao',\n",
       " 'DINAIG, Maguindanao',\n",
       " 'DON MARIANO MARCOS, Misamis Occidental',\n",
       " 'DON MARIANO MARCOS, Zamboanga Del Sur',\n",
       " 'DON VICTORIANO CHIONGBIAN , Misamis Occidental',\n",
       " 'DOÑA ALICIA, Compostela Valley',\n",
       " 'ERMITA, Manila',\n",
       " 'ESPIRITU, Ilocos Norte',\n",
       " 'FAIRE, Cagayan',\n",
       " 'GATA, Lanao Del Sur',\n",
       " 'HADJI MUHTAMAD, Basilan',\n",
       " 'IMELDA, Camarines Norte',\n",
       " 'IMELDA, Romblon',\n",
       " 'INTRAMUROS, Manila',\n",
       " 'KALAYAAN, Palawan',\n",
       " 'KAROMATAN, Lanao Del Norte',\n",
       " 'LAMBAYONG, Maguindanao',\n",
       " 'LAPOG, Ilocos Sur',\n",
       " 'LEGASPI, Albay',\n",
       " 'LIARGO, Zamboanga Del Sur',\n",
       " 'LIBOG, Albay',\n",
       " 'LICUAN, Abra',\n",
       " 'LIMBUHAN, Masbate',\n",
       " 'LINUGOS, Misamis Oriental',\n",
       " 'LIWAN, Kalinga',\n",
       " 'LOCSIN, Albay',\n",
       " 'LUZURRIAGA, Negros Oriental',\n",
       " 'MAGALLON, Negros Occidental',\n",
       " 'MAGANOY, Maguindanao',\n",
       " 'MAGSAYSAY, Isabela',\n",
       " 'MALATE, Manila',\n",
       " 'MARCOS, Palawan',\n",
       " 'MARIANO MARCOS, Sultan Kudarat',\n",
       " 'MARUNGGAS, Sulu',\n",
       " 'MENDEZ-NUÑEZ, Cavite',\n",
       " 'MONTALBAN, Rizal',\n",
       " 'NEW PANAMAO, Sulu',\n",
       " 'NEW PIÑAN, Zamboanga Del Norte',\n",
       " 'NULING, Maguindanao',\n",
       " 'OMAR, Sulu',\n",
       " 'OPON, Cebu',\n",
       " 'OZAMIS, Misamis Occidental',\n",
       " 'PACO, Manila',\n",
       " 'PANDACAN, Manila',\n",
       " 'PAPAYA, Nueva Ecija',\n",
       " 'PARUBCAN, Camarines Sur',\n",
       " 'PAYABON, Negros Oriental',\n",
       " 'PAYO, Catanduanes',\n",
       " 'PITOGO, Bohol',\n",
       " 'PONOT, Zamboanga Del Norte',\n",
       " 'PORT AREA, Manila',\n",
       " 'POTIA, Ifugao',\n",
       " 'PRES. CARLOS P. GARCIA, Bohol',\n",
       " 'PRES. MANUEL A. ROXAS, Zamboanga Del Norte',\n",
       " 'QUIAPO, Manila',\n",
       " 'RIZAL, Dinagat Islands',\n",
       " 'SAMPALOC, Manila',\n",
       " 'SAN MARIANO, Compostela Valley',\n",
       " 'SAN MIGUEL, Manila',\n",
       " 'SAN NICOLAS, Manila',\n",
       " 'SAN PEDRO, Oriental Mindoro',\n",
       " 'SAN VICENTE, Compostela Valley',\n",
       " 'SANTA ANA, Manila',\n",
       " 'SANTA CRUZ, Manila',\n",
       " 'SAPAO, Surigao Del Norte',\n",
       " 'SARAVIA, Negros Occidental',\n",
       " 'SAUG, Davao Del Norte',\n",
       " 'SEXMOAN, Pampanga',\n",
       " 'SHARIFF SAYDONA MUSTAPHA, Maguindanao',\n",
       " 'SULTAN GUMANDER, Lanao Del Sur',\n",
       " 'TABUAN-LASA, Basilan',\n",
       " 'TAGOLOAN 2, Lanao Del Sur',\n",
       " 'TATARIKAN, Lanao Del Sur',\n",
       " 'TONDO I/II, Manila',\n",
       " 'TRINIDAD, Davao Occidental',\n",
       " 'TULONG, Negros Oriental',\n",
       " 'TUMBAO, Maguindanao',\n",
       " 'WATU, Lanao Del Sur',\n",
       " 'WRIGHT, Samar'}"
      ]
     },
     "execution_count": 222,
     "metadata": {},
     "output_type": "execute_result"
    }
   ],
   "source": [
    "set(munList).difference(set(polygonList))"
   ]
  },
  {
   "cell_type": "markdown",
   "metadata": {},
   "source": [
    "#### Fill in missing population density in `mun` "
   ]
  },
  {
   "cell_type": "code",
   "execution_count": 223,
   "metadata": {},
   "outputs": [],
   "source": [
    "mun.loc[mun['location']=='HADJI MUHTAMAD','Area'] = 173.22\n",
    "mun.loc[mun['location']=='LAMITAN','Area'] = 354.45\n",
    "mun.loc[mun['location']=='SUMISIP','Area'] = 567.60\n",
    "mun.loc[mun['location']=='TUBURAN','Area'] = 546.00\n",
    "mun.loc[mun['location']=='SIBUTU','Area'] = 285.32\n",
    "\n",
    "mun.loc[mun['location']=='HADJI MUHTAMAD','PD'] = 25085/173.22\n",
    "mun.loc[mun['location']=='LAMITAN','PD'] = 74782/354.45\n",
    "mun.loc[mun['location']=='SUMISIP','PD'] = 41730/567.60\n",
    "mun.loc[mun['location']=='TUBURAN','PD'] = 20207/546.00\n",
    "mun.loc[mun['location']=='SIBUTU','PD'] = 30387/285.32\n",
    "\n",
    "\n"
   ]
  },
  {
   "cell_type": "markdown",
   "metadata": {},
   "source": [
    "#### Add psgc, population, and population density to `municipality`"
   ]
  },
  {
   "cell_type": "code",
   "execution_count": 224,
   "metadata": {
    "collapsed": true
   },
   "outputs": [
    {
     "name": "stdout",
     "output_type": "stream",
     "text": [
      "Province mismatch on 16: MAINIT LAKE, Agusan Del Norte\n",
      "Complete error on: 16: MAINIT LAKE, Agusan Del Norte\n",
      "Province mismatch on 157: BATO LAKE, Albay\n",
      "Complete error on: 157: BATO LAKE, Albay\n",
      "Province mismatch on 265: TAAL LAKE, Batangas\n",
      "Complete error on: 265: TAAL LAKE, Batangas\n",
      "Province mismatch on 431: BATO LAKE, Camarines Sur\n",
      "Complete error on: 431: BATO LAKE, Camarines Sur\n",
      "Province mismatch on 434: BUHI LAKE, Camarines Sur\n",
      "Complete error on: 434: BUHI LAKE, Camarines Sur\n",
      "Province mismatch on 525: DANAO LAKE, Cebu\n",
      "Complete error on: 525: DANAO LAKE, Cebu\n",
      "Province mismatch on 666: PAOAY LAKE, Ilocos Norte\n",
      "Complete error on: 666: PAOAY LAKE, Ilocos Norte\n",
      "Province mismatch on 805: KALIBATO LAKE, Laguna\n",
      "Complete error on: 805: KALIBATO LAKE, Laguna\n",
      "Province mismatch on 806: LAGUNA LAKE, Laguna\n",
      "Complete error on: 806: LAGUNA LAKE, Laguna\n",
      "Province mismatch on 818: PALAKPAKIN LAKE, Laguna\n",
      "Complete error on: 818: PALAKPAKIN LAKE, Laguna\n",
      "Province mismatch on 822: SAMPALOC LAKE, Laguna\n",
      "Complete error on: 822: SAMPALOC LAKE, Laguna\n",
      "Province mismatch on 830: WATERBODY, Laguna\n",
      "Complete error on: 830: WATERBODY, Laguna\n",
      "Province mismatch on 862: BUTIG, Lanao Del Sur\n",
      "Complete error on: 862: BUTIG, Lanao Del Sur\n",
      "Province mismatch on 864: DAPAO LAKE, Lanao Del Sur\n",
      "Complete error on: 864: DAPAO LAKE, Lanao Del Sur\n",
      "Province mismatch on 869: LANAO LAKE, Lanao Del Sur\n",
      "Complete error on: 869: LANAO LAKE, Lanao Del Sur\n",
      "Province mismatch on 961: BULUAN LAKE, Maguindanao\n",
      "Complete error on: 961: BULUAN LAKE, Maguindanao\n",
      "Province mismatch on 974: PAGAGAWAN, Maguindanao\n",
      "Complete error on: 974: PAGAGAWAN, Maguindanao\n",
      "Province mismatch on 1224: NAUJAN LAKE, Oriental Mindoro\n",
      "Complete error on: 1224: NAUJAN LAKE, Oriental Mindoro\n",
      "Province mismatch on 1339: HINUNANGAN, Quezon\n",
      "Province mismatch on 1481: BULUAN LAKE, Sultan Kudarat\n",
      "Complete error on: 1481: BULUAN LAKE, Sultan Kudarat\n",
      "Province mismatch on 1519: MAINIT LAKE, Surigao Del Norte\n",
      "Complete error on: 1519: MAINIT LAKE, Surigao Del Norte\n",
      "Province mismatch on 1632: LAKEWOOD LAKE, Zamboanga Del Sur\n",
      "Complete error on: 1632: LAKEWOOD LAKE, Zamboanga Del Sur\n"
     ]
    }
   ],
   "source": [
    "count = 0\n",
    "for i in range(1647):\n",
    "    prov = municipality['features'][i]['properties']['PROVINCE']\n",
    "    name = municipality['features'][i]['properties']['NAME_2']\n",
    "\n",
    "    try:\n",
    "        temp = mun[(mun['location']==name) & (mun['Province']==prov)].reset_index() \n",
    "        municipality['features'][i]['properties']['PD'] = int(temp['PD'][0])\n",
    "        municipality['features'][i]['properties']['population'] = int(temp['Population'][0])\n",
    "        municipality['features'][i]['properties']['psgc'] = int(temp['code'][0])\n",
    "        continue\n",
    "    except:\n",
    "        pass\n",
    "    \n",
    "    try:\n",
    "        print(\"Province mismatch on \"+str(i)+\": \"+name+', '+prov)\n",
    "        temp = mun[mun['location']==name].reset_index() \n",
    "        municipality['features'][i]['properties']['PD'] = int(temp['PD'][0])\n",
    "        municipality['features'][i]['properties']['population'] = int(temp['Population'][0])\n",
    "        municipality['features'][i]['properties']['psgc'] = int(temp['code'][0])\n",
    "    except:\n",
    "        print(\"Complete error on: \"+str(i)+\": \"+name+', '+prov)\n",
    "        municipality['features'][i]['properties']['PD'] = 'NA'\n",
    "        municipality['features'][i]['properties']['population'] = 'NA'\n",
    "        municipality['features'][i]['properties']['psgc'] = 'NA'\n",
    "        count += 1\n"
   ]
  },
  {
   "cell_type": "code",
   "execution_count": 239,
   "metadata": {},
   "outputs": [],
   "source": [
    "with open('/Users/lorenzoflores/Desktop/Nerve/Hospitals/munPop.json', 'w') as outfile:\n",
    "    json.dump(municipality, outfile)"
   ]
  },
  {
   "cell_type": "markdown",
   "metadata": {},
   "source": [
    "## Nearest Hospitals"
   ]
  },
  {
   "cell_type": "markdown",
   "metadata": {},
   "source": [
    "#### Geotagging Municipalities"
   ]
  },
  {
   "cell_type": "code",
   "execution_count": 234,
   "metadata": {
    "collapsed": true
   },
   "outputs": [
    {
     "name": "stdout",
     "output_type": "stream",
     "text": [
      "Now on: 0.0%\n",
      "Now on: 5.7770075101097635%\n",
      "Now on: 11.554015020219527%\n",
      "Now on: 17.33102253032929%\n",
      "Now on: 23.108030040439054%\n",
      "Now on: 28.885037550548816%\n",
      "Now on: 34.66204506065858%\n",
      "Now on: 40.43905257076834%\n",
      "Now on: 46.21606008087811%\n",
      "Now on: 51.99306759098788%\n",
      "Now on: 57.77007510109763%\n",
      "Now on: 63.547082611207394%\n",
      "Now on: 69.32409012131716%\n",
      "Now on: 75.10109763142691%\n",
      "Now on: 80.87810514153668%\n",
      "Now on: 86.65511265164645%\n",
      "Now on: 92.43212016175622%\n",
      "Now on: 98.20912767186597%\n"
     ]
    }
   ],
   "source": [
    "# mun['lat'] = np.repeat(None, mun.shape[0])\n",
    "# mun['lon'] = np.repeat(None, mun.shape[0])\n",
    "\n",
    "# errNo = []\n",
    "# for i in range(mun.shape[0]):\n",
    "#     if i%100 == 0:\n",
    "#         print(\"Now on: \"+str((i/mun.shape[0])*100)+\"%\")\n",
    "    \n",
    "#     add = mun['location'][i] + ', ' + mun['Province'][i] + ', ' + 'Philippines'\n",
    "#     temp = geoTag(add)\n",
    "#     if temp != 0:\n",
    "#         mun.loc[i,'lat'] = temp[0]\n",
    "#         mun.loc[i,'lon'] = temp[1]\n",
    "    \n",
    "#     else:\n",
    "#         print('Error on '+str(i)+': '+add)\n",
    "#         errNo.append(i)       \n",
    "                  \n",
    "# mun.to_csv(\"munWithCoords.csv\")\n"
   ]
  },
  {
   "cell_type": "code",
   "execution_count": 214,
   "metadata": {},
   "outputs": [],
   "source": [
    "mun = pd.read_csv(\"munWithCoords.csv\")"
   ]
  },
  {
   "cell_type": "code",
   "execution_count": 215,
   "metadata": {
    "collapsed": true
   },
   "outputs": [
    {
     "name": "stdout",
     "output_type": "stream",
     "text": [
      "0\n",
      "100\n",
      "200\n",
      "300\n",
      "400\n",
      "500\n",
      "600\n",
      "700\n",
      "800\n",
      "900\n",
      "1000\n",
      "1100\n",
      "1200\n",
      "1300\n",
      "1400\n",
      "1500\n",
      "1600\n",
      "1700\n"
     ]
    }
   ],
   "source": [
    "index = []\n",
    "mins = []\n",
    "km1 = []\n",
    "km5 = []\n",
    "km10 = []\n",
    "for i in range(mun.shape[0]):\n",
    "    if i%100==0:\n",
    "        print(i)\n",
    "    temp = np.power(subData['lat']-mun['lat'][i],2)+np.power(subData['lon']-mun['lon'][i],2)\n",
    "    temp = [math.sqrt(item)/0.009009 for item in temp]\n",
    "    index.append(np.argmin(temp))\n",
    "    mins.append(np.amin(temp))\n",
    "    km1.append(sum(k <= 1 for k in temp))\n",
    "    km5.append(sum(k <= 5 for k in temp))\n",
    "    km10.append(sum(k <= 10 for k in temp))\n"
   ]
  },
  {
   "cell_type": "code",
   "execution_count": 216,
   "metadata": {},
   "outputs": [],
   "source": [
    "mun['minIndex'] = index\n",
    "mun['closestDistance'] = mins\n",
    "\n"
   ]
  },
  {
   "cell_type": "code",
   "execution_count": 217,
   "metadata": {},
   "outputs": [
    {
     "data": {
      "text/plain": [
       "12.562757057286102"
      ]
     },
     "execution_count": 217,
     "metadata": {},
     "output_type": "execute_result"
    }
   ],
   "source": [
    "munTemp = mun\n",
    "#Overall\n",
    "np.nansum(munTemp['closestDistance'])/len(munTemp['closestDistance'])\n"
   ]
  },
  {
   "cell_type": "code",
   "execution_count": 218,
   "metadata": {},
   "outputs": [],
   "source": [
    "munTemp['Urban'] = [1 if item in ['Manila','Cebu','Cavite','Bulacan', \n",
    "                                  'Negros Occidental', 'Laguna', 'Pangasinan', \n",
    "                                  'Rizal', 'Batangas', 'Pampanga']\n",
    "                   else 0 for item in munTemp['Province']]\n"
   ]
  },
  {
   "cell_type": "code",
   "execution_count": 219,
   "metadata": {},
   "outputs": [
    {
     "data": {
      "text/plain": [
       "0.6688863294033827"
      ]
     },
     "execution_count": 219,
     "metadata": {},
     "output_type": "execute_result"
    }
   ],
   "source": [
    "np.nansum(munTemp[munTemp['Province']=='Manila']['closestDistance'])/len(munTemp[munTemp['Province']=='Manila']['closestDistance'])\n"
   ]
  },
  {
   "cell_type": "code",
   "execution_count": 220,
   "metadata": {},
   "outputs": [
    {
     "data": {
      "text/plain": [
       "6.363483331400665"
      ]
     },
     "execution_count": 220,
     "metadata": {},
     "output_type": "execute_result"
    }
   ],
   "source": [
    "np.nansum(munTemp[munTemp['Urban']==1]['closestDistance'])/len(munTemp[munTemp['Urban']==1]['closestDistance'])\n"
   ]
  },
  {
   "cell_type": "code",
   "execution_count": 221,
   "metadata": {},
   "outputs": [
    {
     "data": {
      "text/plain": [
       "13.963301192241808"
      ]
     },
     "execution_count": 221,
     "metadata": {},
     "output_type": "execute_result"
    }
   ],
   "source": [
    "np.nansum(munTemp[munTemp['Urban']==0]['closestDistance'])/len(munTemp[munTemp['Urban']==0]['closestDistance'])\n"
   ]
  },
  {
   "cell_type": "code",
   "execution_count": 232,
   "metadata": {},
   "outputs": [
    {
     "data": {
      "text/html": [
       "<div>\n",
       "<style scoped>\n",
       "    .dataframe tbody tr th:only-of-type {\n",
       "        vertical-align: middle;\n",
       "    }\n",
       "\n",
       "    .dataframe tbody tr th {\n",
       "        vertical-align: top;\n",
       "    }\n",
       "\n",
       "    .dataframe thead th {\n",
       "        text-align: right;\n",
       "    }\n",
       "</style>\n",
       "<table border=\"1\" class=\"dataframe\">\n",
       "  <thead>\n",
       "    <tr style=\"text-align: right;\">\n",
       "      <th></th>\n",
       "      <th>Unnamed: 0</th>\n",
       "      <th>index</th>\n",
       "      <th>location</th>\n",
       "      <th>Population</th>\n",
       "      <th>Area</th>\n",
       "      <th>PD</th>\n",
       "      <th>Province</th>\n",
       "      <th>code</th>\n",
       "      <th>provCode</th>\n",
       "      <th>lat</th>\n",
       "      <th>lon</th>\n",
       "      <th>minIndex</th>\n",
       "      <th>closestDistance</th>\n",
       "      <th>Urban</th>\n",
       "    </tr>\n",
       "  </thead>\n",
       "  <tbody>\n",
       "    <tr>\n",
       "      <td>1540</td>\n",
       "      <td>1540</td>\n",
       "      <td>1541</td>\n",
       "      <td>MAPUN</td>\n",
       "      <td>26597.0</td>\n",
       "      <td>181.29</td>\n",
       "      <td>147.0</td>\n",
       "      <td>Tawi-Tawi</td>\n",
       "      <td>157003000</td>\n",
       "      <td>157000000</td>\n",
       "      <td>6.997029</td>\n",
       "      <td>118.474717</td>\n",
       "      <td>697</td>\n",
       "      <td>205.994844</td>\n",
       "      <td>0</td>\n",
       "    </tr>\n",
       "    <tr>\n",
       "      <td>1548</td>\n",
       "      <td>1548</td>\n",
       "      <td>1549</td>\n",
       "      <td>TURTLE ISLANDS</td>\n",
       "      <td>4727.0</td>\n",
       "      <td>62.5</td>\n",
       "      <td>76.0</td>\n",
       "      <td>Tawi-Tawi</td>\n",
       "      <td>157008000</td>\n",
       "      <td>157000000</td>\n",
       "      <td>6.217003</td>\n",
       "      <td>118.252662</td>\n",
       "      <td>21</td>\n",
       "      <td>203.188229</td>\n",
       "      <td>0</td>\n",
       "    </tr>\n",
       "    <tr>\n",
       "      <td>1720</td>\n",
       "      <td>1720</td>\n",
       "      <td>1721</td>\n",
       "      <td>CAGAYAN DE TAWI-TAWI</td>\n",
       "      <td>NaN</td>\n",
       "      <td>NaN</td>\n",
       "      <td>NaN</td>\n",
       "      <td>Tawi-Tawi</td>\n",
       "      <td>157003000</td>\n",
       "      <td>157000000</td>\n",
       "      <td>6.997029</td>\n",
       "      <td>118.474717</td>\n",
       "      <td>697</td>\n",
       "      <td>205.994844</td>\n",
       "      <td>0</td>\n",
       "    </tr>\n",
       "  </tbody>\n",
       "</table>\n",
       "</div>"
      ],
      "text/plain": [
       "      Unnamed: 0  index              location  Population    Area     PD  \\\n",
       "1540        1540   1541                 MAPUN     26597.0  181.29  147.0   \n",
       "1548        1548   1549        TURTLE ISLANDS      4727.0    62.5   76.0   \n",
       "1720        1720   1721  CAGAYAN DE TAWI-TAWI         NaN     NaN    NaN   \n",
       "\n",
       "       Province       code   provCode       lat         lon  minIndex  \\\n",
       "1540  Tawi-Tawi  157003000  157000000  6.997029  118.474717       697   \n",
       "1548  Tawi-Tawi  157008000  157000000  6.217003  118.252662        21   \n",
       "1720  Tawi-Tawi  157003000  157000000  6.997029  118.474717       697   \n",
       "\n",
       "      closestDistance  Urban  \n",
       "1540       205.994844      0  \n",
       "1548       203.188229      0  \n",
       "1720       205.994844      0  "
      ]
     },
     "execution_count": 232,
     "metadata": {},
     "output_type": "execute_result"
    }
   ],
   "source": [
    "munTemp[munTemp['closestDistance']>200]"
   ]
  },
  {
   "cell_type": "code",
   "execution_count": 192,
   "metadata": {},
   "outputs": [],
   "source": [
    "mun.to_csv(\"/Users/lorenzoflores/Desktop/Nerve/Hospitals/munDist.csv\")"
   ]
  },
  {
   "cell_type": "markdown",
   "metadata": {},
   "source": [
    "## Covid Centers"
   ]
  },
  {
   "cell_type": "code",
   "execution_count": 233,
   "metadata": {},
   "outputs": [],
   "source": [
    "path = '/Users/lorenzoflores/Desktop/Nerve/Hospitals/CovidList'\n",
    "extension = 'csv'\n",
    "os.chdir(path)\n",
    "titles = glob.glob('*.{}'.format(extension))\n"
   ]
  },
  {
   "cell_type": "code",
   "execution_count": 235,
   "metadata": {},
   "outputs": [],
   "source": [
    "cov = pd.read_csv(titles[0])\n",
    "for item in titles[1:]:\n",
    "    cov = cov.append(pd.read_csv(item))"
   ]
  },
  {
   "cell_type": "code",
   "execution_count": 244,
   "metadata": {},
   "outputs": [],
   "source": [
    "cov = cov[cov['COVID-19sorted descending']=='✔']"
   ]
  },
  {
   "cell_type": "code",
   "execution_count": 249,
   "metadata": {},
   "outputs": [
    {
     "data": {
      "text/plain": [
       "{\"DE VERA'S MEDICAL CENTER, INC.\",\n",
       " 'DR. RONALD P. GUZMAN MEDICAL CENTER',\n",
       " 'TANCHULING HOSPITAL'}"
      ]
     },
     "execution_count": 249,
     "metadata": {},
     "output_type": "execute_result"
    }
   ],
   "source": [
    "set(cov['Name']).difference(subData['Facility Name'])"
   ]
  },
  {
   "cell_type": "code",
   "execution_count": 250,
   "metadata": {},
   "outputs": [
    {
     "name": "stdout",
     "output_type": "stream",
     "text": [
      "DE VERA MEDICAL CENTER, INC.\n",
      "DR. RONALD P. GUZMAN MEDICAL CENTER, INC.\n",
      "TALAVERA GENERAL HOSPITAL\n",
      "TANCHULING GENERAL HOSPITAL\n",
      "VILLANUEVA-TANCHULING MATERNITY AND GENERAL HOSPITAL INCORPORATED\n",
      "RIVERA MEDICAL CENTER, INC.\n"
     ]
    }
   ],
   "source": [
    "for item in subData['Facility Name']:\n",
    "    if 'vera' in item.lower():\n",
    "        print(item)\n",
    "    if 'tanchuling' in item.lower():\n",
    "        print(item)\n",
    "    if 'ronald' in item.lower():\n",
    "        print(item)"
   ]
  },
  {
   "cell_type": "code",
   "execution_count": 254,
   "metadata": {},
   "outputs": [],
   "source": [
    "subData = pd.merge(subData,cov[['Name','COVID-19sorted descending']],\n",
    "                   left_on='Facility Name',\n",
    "                   right_on='Name',\n",
    "                   how='left')"
   ]
  },
  {
   "cell_type": "code",
   "execution_count": 256,
   "metadata": {},
   "outputs": [],
   "source": [
    "subData['COVID-19sorted descending'] = [1 if item=='✔' else 0 for item in subData['COVID-19sorted descending']]\n"
   ]
  },
  {
   "cell_type": "code",
   "execution_count": 263,
   "metadata": {},
   "outputs": [],
   "source": [
    "covList = subData.index[subData['COVID-19sorted descending']==1].tolist()\n",
    "for i in covList:\n",
    "    subData.loc[i,'Service Capability'] = subData.loc[i,'Service Capability'] + ', Covid Hosp.'"
   ]
  },
  {
   "cell_type": "code",
   "execution_count": 264,
   "metadata": {},
   "outputs": [
    {
     "data": {
      "text/plain": [
       "0                    Level 1\n",
       "1                    Level 1\n",
       "2                    Level 1\n",
       "3                    Level 1\n",
       "4                    Level 1\n",
       "                ...         \n",
       "1593                       0\n",
       "1594                 Level 1\n",
       "1595    Level 2, Covid Hosp.\n",
       "1596    Level 2, Covid Hosp.\n",
       "1597    Level 2, Covid Hosp.\n",
       "Name: Service Capability, Length: 1598, dtype: object"
      ]
     },
     "execution_count": 264,
     "metadata": {},
     "output_type": "execute_result"
    }
   ],
   "source": [
    "subData['Service Capability']"
   ]
  },
  {
   "cell_type": "code",
   "execution_count": 269,
   "metadata": {},
   "outputs": [
    {
     "data": {
      "text/html": [
       "<div>\n",
       "<style scoped>\n",
       "    .dataframe tbody tr th:only-of-type {\n",
       "        vertical-align: middle;\n",
       "    }\n",
       "\n",
       "    .dataframe tbody tr th {\n",
       "        vertical-align: top;\n",
       "    }\n",
       "\n",
       "    .dataframe thead th {\n",
       "        text-align: right;\n",
       "    }\n",
       "</style>\n",
       "<table border=\"1\" class=\"dataframe\">\n",
       "  <thead>\n",
       "    <tr style=\"text-align: right;\">\n",
       "      <th></th>\n",
       "      <th>Facility Name</th>\n",
       "      <th>Ownership Major Classification</th>\n",
       "      <th>Ownership Sub-Classification for Government facilities</th>\n",
       "      <th>Region Name</th>\n",
       "      <th>Province</th>\n",
       "      <th>location</th>\n",
       "      <th>Hospital Licensing Status</th>\n",
       "      <th>Service Capability</th>\n",
       "      <th>Bed Capacity</th>\n",
       "      <th>lat</th>\n",
       "      <th>lon</th>\n",
       "      <th>City/Municipality Name</th>\n",
       "      <th>code</th>\n",
       "      <th>codenan</th>\n",
       "      <th>Name</th>\n",
       "      <th>COVID-19sorted descending</th>\n",
       "    </tr>\n",
       "  </thead>\n",
       "  <tbody>\n",
       "    <tr>\n",
       "      <td>223</td>\n",
       "      <td>DR. RONALD P. GUZMAN MEDICAL CENTER, INC.</td>\n",
       "      <td>Private</td>\n",
       "      <td>NaN</td>\n",
       "      <td>REGION II (CAGAYAN VALLEY)</td>\n",
       "      <td>Cagayan</td>\n",
       "      <td>TUGUEGARAO</td>\n",
       "      <td>With License</td>\n",
       "      <td>Level 2, Covid Hosp.</td>\n",
       "      <td>100.0</td>\n",
       "      <td>17.649541</td>\n",
       "      <td>121.755894</td>\n",
       "      <td>NaN</td>\n",
       "      <td>21529000</td>\n",
       "      <td>0</td>\n",
       "      <td>DR. RONALD P. GUZMAN MEDICAL CENTER, INC.</td>\n",
       "      <td>1</td>\n",
       "    </tr>\n",
       "  </tbody>\n",
       "</table>\n",
       "</div>"
      ],
      "text/plain": [
       "                                 Facility Name Ownership Major Classification  \\\n",
       "223  DR. RONALD P. GUZMAN MEDICAL CENTER, INC.                        Private   \n",
       "\n",
       "    Ownership Sub-Classification for Government facilities  \\\n",
       "223                                                NaN       \n",
       "\n",
       "                    Region Name Province    location  \\\n",
       "223  REGION II (CAGAYAN VALLEY)  Cagayan  TUGUEGARAO   \n",
       "\n",
       "    Hospital Licensing Status    Service Capability  Bed Capacity        lat  \\\n",
       "223              With License  Level 2, Covid Hosp.         100.0  17.649541   \n",
       "\n",
       "            lon City/Municipality Name      code  codenan  \\\n",
       "223  121.755894                    NaN  21529000        0   \n",
       "\n",
       "                                          Name  COVID-19sorted descending  \n",
       "223  DR. RONALD P. GUZMAN MEDICAL CENTER, INC.                          1  "
      ]
     },
     "execution_count": 269,
     "metadata": {},
     "output_type": "execute_result"
    }
   ],
   "source": [
    "subData.loc[subData['Facility Name']=='DR. RONALD P. GUZMAN MEDICAL CENTER, INC.',:]"
   ]
  },
  {
   "cell_type": "code",
   "execution_count": 270,
   "metadata": {},
   "outputs": [],
   "source": [
    "subData.to_csv('subData.csv')"
   ]
  },
  {
   "cell_type": "markdown",
   "metadata": {},
   "source": [
    "## Filtered Data Set for ArcGIS"
   ]
  },
  {
   "cell_type": "code",
   "execution_count": 4,
   "metadata": {},
   "outputs": [],
   "source": [
    "subArc = pd.read_csv('subData.csv')"
   ]
  },
  {
   "cell_type": "code",
   "execution_count": 8,
   "metadata": {},
   "outputs": [],
   "source": [
    "subArc = subArc[(subArc['Hospital Licensing Status']=='With License') & (subArc['Service Capability'].isin(['Level 1','Level 2','Level 3']))]"
   ]
  },
  {
   "cell_type": "code",
   "execution_count": 16,
   "metadata": {},
   "outputs": [
    {
     "data": {
      "text/html": [
       "<div>\n",
       "<style scoped>\n",
       "    .dataframe tbody tr th:only-of-type {\n",
       "        vertical-align: middle;\n",
       "    }\n",
       "\n",
       "    .dataframe tbody tr th {\n",
       "        vertical-align: top;\n",
       "    }\n",
       "\n",
       "    .dataframe thead th {\n",
       "        text-align: right;\n",
       "    }\n",
       "</style>\n",
       "<table border=\"1\" class=\"dataframe\">\n",
       "  <thead>\n",
       "    <tr style=\"text-align: right;\">\n",
       "      <th></th>\n",
       "      <th>Unnamed: 0</th>\n",
       "      <th>Facility Name</th>\n",
       "      <th>Ownership Major Classification</th>\n",
       "      <th>Ownership Sub-Classification for Government facilities</th>\n",
       "      <th>Region Name</th>\n",
       "      <th>Province</th>\n",
       "      <th>Hospital Licensing Status</th>\n",
       "      <th>Service Capability</th>\n",
       "      <th>Bed Capacity</th>\n",
       "      <th>lat</th>\n",
       "      <th>lon</th>\n",
       "      <th>City/Municipality Name</th>\n",
       "      <th>code</th>\n",
       "      <th>codenan</th>\n",
       "    </tr>\n",
       "    <tr>\n",
       "      <th>location</th>\n",
       "      <th></th>\n",
       "      <th></th>\n",
       "      <th></th>\n",
       "      <th></th>\n",
       "      <th></th>\n",
       "      <th></th>\n",
       "      <th></th>\n",
       "      <th></th>\n",
       "      <th></th>\n",
       "      <th></th>\n",
       "      <th></th>\n",
       "      <th></th>\n",
       "      <th></th>\n",
       "      <th></th>\n",
       "    </tr>\n",
       "  </thead>\n",
       "  <tbody>\n",
       "    <tr>\n",
       "      <td>BINONDO</td>\n",
       "      <td>1</td>\n",
       "      <td>1</td>\n",
       "      <td>1</td>\n",
       "      <td>1</td>\n",
       "      <td>1</td>\n",
       "      <td>1</td>\n",
       "      <td>1</td>\n",
       "      <td>1</td>\n",
       "      <td>1</td>\n",
       "      <td>1</td>\n",
       "      <td>1</td>\n",
       "      <td>0</td>\n",
       "      <td>1</td>\n",
       "      <td>1</td>\n",
       "    </tr>\n",
       "    <tr>\n",
       "      <td>CALOOCAN</td>\n",
       "      <td>9</td>\n",
       "      <td>9</td>\n",
       "      <td>9</td>\n",
       "      <td>2</td>\n",
       "      <td>9</td>\n",
       "      <td>9</td>\n",
       "      <td>9</td>\n",
       "      <td>9</td>\n",
       "      <td>9</td>\n",
       "      <td>9</td>\n",
       "      <td>9</td>\n",
       "      <td>0</td>\n",
       "      <td>9</td>\n",
       "      <td>9</td>\n",
       "    </tr>\n",
       "    <tr>\n",
       "      <td>ERMITA</td>\n",
       "      <td>3</td>\n",
       "      <td>3</td>\n",
       "      <td>3</td>\n",
       "      <td>1</td>\n",
       "      <td>3</td>\n",
       "      <td>3</td>\n",
       "      <td>3</td>\n",
       "      <td>3</td>\n",
       "      <td>3</td>\n",
       "      <td>3</td>\n",
       "      <td>3</td>\n",
       "      <td>0</td>\n",
       "      <td>3</td>\n",
       "      <td>3</td>\n",
       "    </tr>\n",
       "    <tr>\n",
       "      <td>INTRAMUROS</td>\n",
       "      <td>1</td>\n",
       "      <td>1</td>\n",
       "      <td>1</td>\n",
       "      <td>0</td>\n",
       "      <td>1</td>\n",
       "      <td>1</td>\n",
       "      <td>1</td>\n",
       "      <td>1</td>\n",
       "      <td>1</td>\n",
       "      <td>1</td>\n",
       "      <td>1</td>\n",
       "      <td>0</td>\n",
       "      <td>1</td>\n",
       "      <td>1</td>\n",
       "    </tr>\n",
       "    <tr>\n",
       "      <td>LAS PIÑAS</td>\n",
       "      <td>10</td>\n",
       "      <td>10</td>\n",
       "      <td>10</td>\n",
       "      <td>1</td>\n",
       "      <td>10</td>\n",
       "      <td>10</td>\n",
       "      <td>10</td>\n",
       "      <td>10</td>\n",
       "      <td>10</td>\n",
       "      <td>10</td>\n",
       "      <td>10</td>\n",
       "      <td>0</td>\n",
       "      <td>10</td>\n",
       "      <td>10</td>\n",
       "    </tr>\n",
       "    <tr>\n",
       "      <td>MAKATI</td>\n",
       "      <td>4</td>\n",
       "      <td>4</td>\n",
       "      <td>4</td>\n",
       "      <td>1</td>\n",
       "      <td>4</td>\n",
       "      <td>4</td>\n",
       "      <td>4</td>\n",
       "      <td>4</td>\n",
       "      <td>4</td>\n",
       "      <td>4</td>\n",
       "      <td>4</td>\n",
       "      <td>0</td>\n",
       "      <td>4</td>\n",
       "      <td>4</td>\n",
       "    </tr>\n",
       "    <tr>\n",
       "      <td>MALABON</td>\n",
       "      <td>2</td>\n",
       "      <td>2</td>\n",
       "      <td>2</td>\n",
       "      <td>1</td>\n",
       "      <td>2</td>\n",
       "      <td>2</td>\n",
       "      <td>2</td>\n",
       "      <td>2</td>\n",
       "      <td>2</td>\n",
       "      <td>2</td>\n",
       "      <td>2</td>\n",
       "      <td>0</td>\n",
       "      <td>2</td>\n",
       "      <td>2</td>\n",
       "    </tr>\n",
       "    <tr>\n",
       "      <td>MALATE</td>\n",
       "      <td>1</td>\n",
       "      <td>1</td>\n",
       "      <td>1</td>\n",
       "      <td>1</td>\n",
       "      <td>1</td>\n",
       "      <td>1</td>\n",
       "      <td>1</td>\n",
       "      <td>1</td>\n",
       "      <td>1</td>\n",
       "      <td>1</td>\n",
       "      <td>1</td>\n",
       "      <td>0</td>\n",
       "      <td>1</td>\n",
       "      <td>1</td>\n",
       "    </tr>\n",
       "    <tr>\n",
       "      <td>MANDALUYONG</td>\n",
       "      <td>4</td>\n",
       "      <td>4</td>\n",
       "      <td>4</td>\n",
       "      <td>2</td>\n",
       "      <td>4</td>\n",
       "      <td>4</td>\n",
       "      <td>4</td>\n",
       "      <td>4</td>\n",
       "      <td>4</td>\n",
       "      <td>4</td>\n",
       "      <td>4</td>\n",
       "      <td>0</td>\n",
       "      <td>4</td>\n",
       "      <td>4</td>\n",
       "    </tr>\n",
       "    <tr>\n",
       "      <td>MANILA</td>\n",
       "      <td>2</td>\n",
       "      <td>2</td>\n",
       "      <td>2</td>\n",
       "      <td>0</td>\n",
       "      <td>2</td>\n",
       "      <td>2</td>\n",
       "      <td>2</td>\n",
       "      <td>2</td>\n",
       "      <td>2</td>\n",
       "      <td>2</td>\n",
       "      <td>2</td>\n",
       "      <td>0</td>\n",
       "      <td>2</td>\n",
       "      <td>2</td>\n",
       "    </tr>\n",
       "    <tr>\n",
       "      <td>MARIKINA</td>\n",
       "      <td>9</td>\n",
       "      <td>9</td>\n",
       "      <td>9</td>\n",
       "      <td>1</td>\n",
       "      <td>9</td>\n",
       "      <td>9</td>\n",
       "      <td>9</td>\n",
       "      <td>9</td>\n",
       "      <td>9</td>\n",
       "      <td>9</td>\n",
       "      <td>9</td>\n",
       "      <td>0</td>\n",
       "      <td>9</td>\n",
       "      <td>9</td>\n",
       "    </tr>\n",
       "    <tr>\n",
       "      <td>MUNTINLUPA</td>\n",
       "      <td>9</td>\n",
       "      <td>9</td>\n",
       "      <td>9</td>\n",
       "      <td>3</td>\n",
       "      <td>9</td>\n",
       "      <td>9</td>\n",
       "      <td>9</td>\n",
       "      <td>9</td>\n",
       "      <td>8</td>\n",
       "      <td>9</td>\n",
       "      <td>9</td>\n",
       "      <td>0</td>\n",
       "      <td>9</td>\n",
       "      <td>9</td>\n",
       "    </tr>\n",
       "    <tr>\n",
       "      <td>NAVOTAS</td>\n",
       "      <td>1</td>\n",
       "      <td>1</td>\n",
       "      <td>1</td>\n",
       "      <td>1</td>\n",
       "      <td>1</td>\n",
       "      <td>1</td>\n",
       "      <td>1</td>\n",
       "      <td>1</td>\n",
       "      <td>1</td>\n",
       "      <td>1</td>\n",
       "      <td>1</td>\n",
       "      <td>0</td>\n",
       "      <td>1</td>\n",
       "      <td>1</td>\n",
       "    </tr>\n",
       "    <tr>\n",
       "      <td>PARAÑAQUE</td>\n",
       "      <td>10</td>\n",
       "      <td>10</td>\n",
       "      <td>10</td>\n",
       "      <td>1</td>\n",
       "      <td>10</td>\n",
       "      <td>10</td>\n",
       "      <td>10</td>\n",
       "      <td>10</td>\n",
       "      <td>10</td>\n",
       "      <td>10</td>\n",
       "      <td>10</td>\n",
       "      <td>0</td>\n",
       "      <td>10</td>\n",
       "      <td>10</td>\n",
       "    </tr>\n",
       "    <tr>\n",
       "      <td>PASAY</td>\n",
       "      <td>4</td>\n",
       "      <td>4</td>\n",
       "      <td>4</td>\n",
       "      <td>2</td>\n",
       "      <td>4</td>\n",
       "      <td>4</td>\n",
       "      <td>4</td>\n",
       "      <td>4</td>\n",
       "      <td>4</td>\n",
       "      <td>4</td>\n",
       "      <td>4</td>\n",
       "      <td>0</td>\n",
       "      <td>4</td>\n",
       "      <td>4</td>\n",
       "    </tr>\n",
       "    <tr>\n",
       "      <td>PASIG</td>\n",
       "      <td>16</td>\n",
       "      <td>16</td>\n",
       "      <td>16</td>\n",
       "      <td>3</td>\n",
       "      <td>16</td>\n",
       "      <td>16</td>\n",
       "      <td>16</td>\n",
       "      <td>16</td>\n",
       "      <td>16</td>\n",
       "      <td>16</td>\n",
       "      <td>16</td>\n",
       "      <td>0</td>\n",
       "      <td>16</td>\n",
       "      <td>16</td>\n",
       "    </tr>\n",
       "    <tr>\n",
       "      <td>PATEROS</td>\n",
       "      <td>1</td>\n",
       "      <td>1</td>\n",
       "      <td>1</td>\n",
       "      <td>0</td>\n",
       "      <td>1</td>\n",
       "      <td>1</td>\n",
       "      <td>1</td>\n",
       "      <td>1</td>\n",
       "      <td>1</td>\n",
       "      <td>1</td>\n",
       "      <td>1</td>\n",
       "      <td>0</td>\n",
       "      <td>1</td>\n",
       "      <td>1</td>\n",
       "    </tr>\n",
       "    <tr>\n",
       "      <td>QUEZON</td>\n",
       "      <td>48</td>\n",
       "      <td>48</td>\n",
       "      <td>48</td>\n",
       "      <td>15</td>\n",
       "      <td>48</td>\n",
       "      <td>48</td>\n",
       "      <td>48</td>\n",
       "      <td>48</td>\n",
       "      <td>48</td>\n",
       "      <td>48</td>\n",
       "      <td>48</td>\n",
       "      <td>0</td>\n",
       "      <td>48</td>\n",
       "      <td>48</td>\n",
       "    </tr>\n",
       "    <tr>\n",
       "      <td>SAMPALOC</td>\n",
       "      <td>6</td>\n",
       "      <td>6</td>\n",
       "      <td>6</td>\n",
       "      <td>1</td>\n",
       "      <td>6</td>\n",
       "      <td>6</td>\n",
       "      <td>6</td>\n",
       "      <td>6</td>\n",
       "      <td>6</td>\n",
       "      <td>6</td>\n",
       "      <td>6</td>\n",
       "      <td>0</td>\n",
       "      <td>6</td>\n",
       "      <td>6</td>\n",
       "    </tr>\n",
       "    <tr>\n",
       "      <td>SAN JUAN</td>\n",
       "      <td>3</td>\n",
       "      <td>3</td>\n",
       "      <td>3</td>\n",
       "      <td>1</td>\n",
       "      <td>3</td>\n",
       "      <td>3</td>\n",
       "      <td>3</td>\n",
       "      <td>3</td>\n",
       "      <td>3</td>\n",
       "      <td>3</td>\n",
       "      <td>3</td>\n",
       "      <td>0</td>\n",
       "      <td>3</td>\n",
       "      <td>3</td>\n",
       "    </tr>\n",
       "    <tr>\n",
       "      <td>SANTA ANA</td>\n",
       "      <td>2</td>\n",
       "      <td>2</td>\n",
       "      <td>2</td>\n",
       "      <td>1</td>\n",
       "      <td>2</td>\n",
       "      <td>2</td>\n",
       "      <td>2</td>\n",
       "      <td>2</td>\n",
       "      <td>2</td>\n",
       "      <td>2</td>\n",
       "      <td>2</td>\n",
       "      <td>0</td>\n",
       "      <td>2</td>\n",
       "      <td>2</td>\n",
       "    </tr>\n",
       "    <tr>\n",
       "      <td>SANTA CRUZ</td>\n",
       "      <td>4</td>\n",
       "      <td>4</td>\n",
       "      <td>4</td>\n",
       "      <td>3</td>\n",
       "      <td>4</td>\n",
       "      <td>4</td>\n",
       "      <td>4</td>\n",
       "      <td>4</td>\n",
       "      <td>4</td>\n",
       "      <td>4</td>\n",
       "      <td>4</td>\n",
       "      <td>0</td>\n",
       "      <td>4</td>\n",
       "      <td>4</td>\n",
       "    </tr>\n",
       "    <tr>\n",
       "      <td>TAGUIG</td>\n",
       "      <td>8</td>\n",
       "      <td>8</td>\n",
       "      <td>8</td>\n",
       "      <td>3</td>\n",
       "      <td>8</td>\n",
       "      <td>8</td>\n",
       "      <td>8</td>\n",
       "      <td>8</td>\n",
       "      <td>8</td>\n",
       "      <td>8</td>\n",
       "      <td>8</td>\n",
       "      <td>0</td>\n",
       "      <td>8</td>\n",
       "      <td>8</td>\n",
       "    </tr>\n",
       "    <tr>\n",
       "      <td>TONDO I/II</td>\n",
       "      <td>6</td>\n",
       "      <td>6</td>\n",
       "      <td>6</td>\n",
       "      <td>3</td>\n",
       "      <td>6</td>\n",
       "      <td>6</td>\n",
       "      <td>6</td>\n",
       "      <td>6</td>\n",
       "      <td>6</td>\n",
       "      <td>6</td>\n",
       "      <td>6</td>\n",
       "      <td>0</td>\n",
       "      <td>6</td>\n",
       "      <td>6</td>\n",
       "    </tr>\n",
       "    <tr>\n",
       "      <td>VALENZUELA</td>\n",
       "      <td>5</td>\n",
       "      <td>5</td>\n",
       "      <td>5</td>\n",
       "      <td>1</td>\n",
       "      <td>5</td>\n",
       "      <td>5</td>\n",
       "      <td>5</td>\n",
       "      <td>5</td>\n",
       "      <td>5</td>\n",
       "      <td>5</td>\n",
       "      <td>5</td>\n",
       "      <td>0</td>\n",
       "      <td>5</td>\n",
       "      <td>5</td>\n",
       "    </tr>\n",
       "  </tbody>\n",
       "</table>\n",
       "</div>"
      ],
      "text/plain": [
       "             Unnamed: 0  Facility Name  Ownership Major Classification  \\\n",
       "location                                                                 \n",
       "BINONDO               1              1                               1   \n",
       "CALOOCAN              9              9                               9   \n",
       "ERMITA                3              3                               3   \n",
       "INTRAMUROS            1              1                               1   \n",
       "LAS PIÑAS            10             10                              10   \n",
       "MAKATI                4              4                               4   \n",
       "MALABON               2              2                               2   \n",
       "MALATE                1              1                               1   \n",
       "MANDALUYONG           4              4                               4   \n",
       "MANILA                2              2                               2   \n",
       "MARIKINA              9              9                               9   \n",
       "MUNTINLUPA            9              9                               9   \n",
       "NAVOTAS               1              1                               1   \n",
       "PARAÑAQUE            10             10                              10   \n",
       "PASAY                 4              4                               4   \n",
       "PASIG                16             16                              16   \n",
       "PATEROS               1              1                               1   \n",
       "QUEZON               48             48                              48   \n",
       "SAMPALOC              6              6                               6   \n",
       "SAN JUAN              3              3                               3   \n",
       "SANTA ANA             2              2                               2   \n",
       "SANTA CRUZ            4              4                               4   \n",
       "TAGUIG                8              8                               8   \n",
       "TONDO I/II            6              6                               6   \n",
       "VALENZUELA            5              5                               5   \n",
       "\n",
       "             Ownership Sub-Classification for Government facilities  \\\n",
       "location                                                              \n",
       "BINONDO                                                      1        \n",
       "CALOOCAN                                                     2        \n",
       "ERMITA                                                       1        \n",
       "INTRAMUROS                                                   0        \n",
       "LAS PIÑAS                                                    1        \n",
       "MAKATI                                                       1        \n",
       "MALABON                                                      1        \n",
       "MALATE                                                       1        \n",
       "MANDALUYONG                                                  2        \n",
       "MANILA                                                       0        \n",
       "MARIKINA                                                     1        \n",
       "MUNTINLUPA                                                   3        \n",
       "NAVOTAS                                                      1        \n",
       "PARAÑAQUE                                                    1        \n",
       "PASAY                                                        2        \n",
       "PASIG                                                        3        \n",
       "PATEROS                                                      0        \n",
       "QUEZON                                                      15        \n",
       "SAMPALOC                                                     1        \n",
       "SAN JUAN                                                     1        \n",
       "SANTA ANA                                                    1        \n",
       "SANTA CRUZ                                                   3        \n",
       "TAGUIG                                                       3        \n",
       "TONDO I/II                                                   3        \n",
       "VALENZUELA                                                   1        \n",
       "\n",
       "             Region Name  Province  Hospital Licensing Status  \\\n",
       "location                                                        \n",
       "BINONDO                1         1                          1   \n",
       "CALOOCAN               9         9                          9   \n",
       "ERMITA                 3         3                          3   \n",
       "INTRAMUROS             1         1                          1   \n",
       "LAS PIÑAS             10        10                         10   \n",
       "MAKATI                 4         4                          4   \n",
       "MALABON                2         2                          2   \n",
       "MALATE                 1         1                          1   \n",
       "MANDALUYONG            4         4                          4   \n",
       "MANILA                 2         2                          2   \n",
       "MARIKINA               9         9                          9   \n",
       "MUNTINLUPA             9         9                          9   \n",
       "NAVOTAS                1         1                          1   \n",
       "PARAÑAQUE             10        10                         10   \n",
       "PASAY                  4         4                          4   \n",
       "PASIG                 16        16                         16   \n",
       "PATEROS                1         1                          1   \n",
       "QUEZON                48        48                         48   \n",
       "SAMPALOC               6         6                          6   \n",
       "SAN JUAN               3         3                          3   \n",
       "SANTA ANA              2         2                          2   \n",
       "SANTA CRUZ             4         4                          4   \n",
       "TAGUIG                 8         8                          8   \n",
       "TONDO I/II             6         6                          6   \n",
       "VALENZUELA             5         5                          5   \n",
       "\n",
       "             Service Capability  Bed Capacity  lat  lon  \\\n",
       "location                                                  \n",
       "BINONDO                       1             1    1    1   \n",
       "CALOOCAN                      9             9    9    9   \n",
       "ERMITA                        3             3    3    3   \n",
       "INTRAMUROS                    1             1    1    1   \n",
       "LAS PIÑAS                    10            10   10   10   \n",
       "MAKATI                        4             4    4    4   \n",
       "MALABON                       2             2    2    2   \n",
       "MALATE                        1             1    1    1   \n",
       "MANDALUYONG                   4             4    4    4   \n",
       "MANILA                        2             2    2    2   \n",
       "MARIKINA                      9             9    9    9   \n",
       "MUNTINLUPA                    9             8    9    9   \n",
       "NAVOTAS                       1             1    1    1   \n",
       "PARAÑAQUE                    10            10   10   10   \n",
       "PASAY                         4             4    4    4   \n",
       "PASIG                        16            16   16   16   \n",
       "PATEROS                       1             1    1    1   \n",
       "QUEZON                       48            48   48   48   \n",
       "SAMPALOC                      6             6    6    6   \n",
       "SAN JUAN                      3             3    3    3   \n",
       "SANTA ANA                     2             2    2    2   \n",
       "SANTA CRUZ                    4             4    4    4   \n",
       "TAGUIG                        8             8    8    8   \n",
       "TONDO I/II                    6             6    6    6   \n",
       "VALENZUELA                    5             5    5    5   \n",
       "\n",
       "             City/Municipality Name  code  codenan  \n",
       "location                                            \n",
       "BINONDO                           0     1        1  \n",
       "CALOOCAN                          0     9        9  \n",
       "ERMITA                            0     3        3  \n",
       "INTRAMUROS                        0     1        1  \n",
       "LAS PIÑAS                         0    10       10  \n",
       "MAKATI                            0     4        4  \n",
       "MALABON                           0     2        2  \n",
       "MALATE                            0     1        1  \n",
       "MANDALUYONG                       0     4        4  \n",
       "MANILA                            0     2        2  \n",
       "MARIKINA                          0     9        9  \n",
       "MUNTINLUPA                        0     9        9  \n",
       "NAVOTAS                           0     1        1  \n",
       "PARAÑAQUE                         0    10       10  \n",
       "PASAY                             0     4        4  \n",
       "PASIG                             0    16       16  \n",
       "PATEROS                           0     1        1  \n",
       "QUEZON                            0    48       48  \n",
       "SAMPALOC                          0     6        6  \n",
       "SAN JUAN                          0     3        3  \n",
       "SANTA ANA                         0     2        2  \n",
       "SANTA CRUZ                        0     4        4  \n",
       "TAGUIG                            0     8        8  \n",
       "TONDO I/II                        0     6        6  \n",
       "VALENZUELA                        0     5        5  "
      ]
     },
     "execution_count": 16,
     "metadata": {},
     "output_type": "execute_result"
    }
   ],
   "source": [
    "subArc[subArc['Province']=='Manila'].groupby('location').count()"
   ]
  },
  {
   "cell_type": "code",
   "execution_count": 17,
   "metadata": {},
   "outputs": [],
   "source": [
    "subArc.to_csv('subArc.csv')"
   ]
  },
  {
   "cell_type": "markdown",
   "metadata": {},
   "source": [
    "### Poverty Statistics\n",
    "* column 3: `Incidence09`\n",
    "* column 4: `Incidence12`\n",
    "* column 5: `Incidence15`"
   ]
  },
  {
   "cell_type": "code",
   "execution_count": 75,
   "metadata": {},
   "outputs": [],
   "source": [
    "pov = pd.read_csv(\"/Users/lorenzoflores/Desktop/Nerve/Hospitals/povertyIndex.csv\")"
   ]
  },
  {
   "cell_type": "code",
   "execution_count": 76,
   "metadata": {},
   "outputs": [],
   "source": [
    "pov.columns = pov.loc[0,:]"
   ]
  },
  {
   "cell_type": "code",
   "execution_count": 77,
   "metadata": {},
   "outputs": [],
   "source": [
    "pov = pov.iloc[pov['PSGC'].dropna(axis=0).index.to_list(),[0,2,5]].drop(0,axis=0).reset_index()"
   ]
  },
  {
   "cell_type": "code",
   "execution_count": 78,
   "metadata": {},
   "outputs": [],
   "source": [
    "pov['PSGC'] = [int(item+'000') for item in pov['PSGC']]"
   ]
  },
  {
   "cell_type": "code",
   "execution_count": 79,
   "metadata": {},
   "outputs": [],
   "source": [
    "munPoverty = pd.read_csv(\"/Users/lorenzoflores/Desktop/Nerve/Hospitals/munWithCoords.csv\")"
   ]
  },
  {
   "cell_type": "code",
   "execution_count": 83,
   "metadata": {},
   "outputs": [],
   "source": [
    "munPoverty['provCode'] = [int(item) for item in munPoverty['provCode']]"
   ]
  },
  {
   "cell_type": "code",
   "execution_count": 84,
   "metadata": {},
   "outputs": [],
   "source": [
    "pov = pov.rename(columns={pov.columns[3]:'Poverty'})"
   ]
  },
  {
   "cell_type": "code",
   "execution_count": 95,
   "metadata": {},
   "outputs": [],
   "source": [
    "pov = pd.merge(munPoverty[['location','code']], pov[['PSGC','Municipality/City','Poverty']], left_on='code',\n",
    "         right_on='PSGC', how='outer')"
   ]
  },
  {
   "cell_type": "code",
   "execution_count": 101,
   "metadata": {},
   "outputs": [
    {
     "data": {
      "text/plain": [
       "5.714285714285714"
      ]
     },
     "execution_count": 101,
     "metadata": {},
     "output_type": "execute_result"
    }
   ],
   "source": [
    "# Poverty incidence in Manila\n",
    "(sum(pov.loc[pov['code'].index[pov['code'].apply(np.isnan)],:]['Poverty'])-65.1)/14"
   ]
  },
  {
   "cell_type": "code",
   "execution_count": 112,
   "metadata": {},
   "outputs": [],
   "source": [
    "pov = pov.drop(pov['code'].index[pov['code'].apply(np.isnan)], axis=0)"
   ]
  },
  {
   "cell_type": "code",
   "execution_count": 116,
   "metadata": {},
   "outputs": [],
   "source": [
    "pov['code'] = [str(int(item)) for item in pov['code']]"
   ]
  },
  {
   "cell_type": "code",
   "execution_count": 117,
   "metadata": {},
   "outputs": [
    {
     "data": {
      "text/plain": [
       "0       140101000\n",
       "1       140102000\n",
       "2       140103000\n",
       "3       140104000\n",
       "4       140105000\n",
       "          ...    \n",
       "1898     98312000\n",
       "1899     98313000\n",
       "1900     98314000\n",
       "1901     98315000\n",
       "1902     98316000\n",
       "Name: code, Length: 1903, dtype: object"
      ]
     },
     "execution_count": 117,
     "metadata": {},
     "output_type": "execute_result"
    }
   ],
   "source": [
    "pov['code']"
   ]
  },
  {
   "cell_type": "code",
   "execution_count": null,
   "metadata": {},
   "outputs": [],
   "source": []
  },
  {
   "cell_type": "code",
   "execution_count": 118,
   "metadata": {},
   "outputs": [],
   "source": [
    "pov.to_csv('/Users/lorenzoflores/Desktop/Nerve/Hospitals/poverty.csv')"
   ]
  },
  {
   "cell_type": "code",
   "execution_count": null,
   "metadata": {},
   "outputs": [],
   "source": []
  }
 ],
 "metadata": {
  "kernelspec": {
   "display_name": "Python 3",
   "language": "python",
   "name": "python3"
  },
  "language_info": {
   "codemirror_mode": {
    "name": "ipython",
    "version": 3
   },
   "file_extension": ".py",
   "mimetype": "text/x-python",
   "name": "python",
   "nbconvert_exporter": "python",
   "pygments_lexer": "ipython3",
   "version": "3.7.4"
  }
 },
 "nbformat": 4,
 "nbformat_minor": 2
}
